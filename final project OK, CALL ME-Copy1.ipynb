{
 "cells": [
  {
   "cell_type": "markdown",
   "metadata": {},
   "source": [
    "## 1 Описание задачи"
   ]
  },
  {
   "cell_type": "markdown",
   "metadata": {},
   "source": [
    "Телеком провайдер «Нупозвони» ищет бомбических аналитиков! \n",
    "\n",
    "Наши клиенты − колл-центры, мы хотим помочь им найти неэффективных операторов, и предложить новый сервис для регулярного мониторинга. Для этого мы возем предоставленый датасет по всем колцентрам, обработаем данные, проанализируем, выявим зависимости и составим критерии эффективности и неэфективности, применим на существующую статитику и вынесим вердикт Конечная цель этого иследования что бы мы могли эффективно оценивать работу КЦ . \n",
    "\n",
    "Заказчик планирует применить исследование, что бы понять на сколько эффективно внедрение эффективных и неэффективных оператор, и внедрять эту технологию или нет Ниже предоставлена декомпозиция задачи\n",
    "\n"
   ]
  },
  {
   "cell_type": "markdown",
   "metadata": {},
   "source": [
    "##   Предварительный анализ данных:"
   ]
  },
  {
   "cell_type": "code",
   "execution_count": 1,
   "metadata": {},
   "outputs": [
    {
     "name": "stdout",
     "output_type": "stream",
     "text": [
      "Requirement already satisfied: pip in c:\\users\\joyfr\\anaconda3\\lib\\site-packages (23.2.1)\n",
      "Note: you may need to restart the kernel to use updated packages.\n"
     ]
    },
    {
     "name": "stderr",
     "output_type": "stream",
     "text": [
      "WARNING: Ignoring invalid distribution -atplotlib (c:\\users\\joyfr\\anaconda3\\lib\\site-packages)\n",
      "WARNING: Ignoring invalid distribution -atplotlib (c:\\users\\joyfr\\anaconda3\\lib\\site-packages)\n"
     ]
    }
   ],
   "source": [
    "pip install --upgrade pip"
   ]
  },
  {
   "cell_type": "code",
   "execution_count": 2,
   "metadata": {},
   "outputs": [
    {
     "name": "stdout",
     "output_type": "stream",
     "text": [
      "Requirement already satisfied: matplotlib in c:\\users\\joyfr\\anaconda3\\lib\\site-packages (3.7.2)\n",
      "Requirement already satisfied: contourpy>=1.0.1 in c:\\users\\joyfr\\anaconda3\\lib\\site-packages (from matplotlib) (1.1.0)\n",
      "Requirement already satisfied: cycler>=0.10 in c:\\users\\joyfr\\anaconda3\\lib\\site-packages (from matplotlib) (0.11.0)\n",
      "Requirement already satisfied: fonttools>=4.22.0 in c:\\users\\joyfr\\anaconda3\\lib\\site-packages (from matplotlib) (4.25.0)\n",
      "Requirement already satisfied: kiwisolver>=1.0.1 in c:\\users\\joyfr\\anaconda3\\lib\\site-packages (from matplotlib) (1.4.2)\n",
      "Requirement already satisfied: numpy>=1.20 in c:\\users\\joyfr\\anaconda3\\lib\\site-packages (from matplotlib) (1.21.5)\n",
      "Requirement already satisfied: packaging>=20.0 in c:\\users\\joyfr\\anaconda3\\lib\\site-packages (from matplotlib) (21.3)\n",
      "Requirement already satisfied: pillow>=6.2.0 in c:\\users\\joyfr\\anaconda3\\lib\\site-packages (from matplotlib) (9.2.0)\n",
      "Requirement already satisfied: pyparsing<3.1,>=2.3.1 in c:\\users\\joyfr\\anaconda3\\lib\\site-packages (from matplotlib) (3.0.9)\n",
      "Requirement already satisfied: python-dateutil>=2.7 in c:\\users\\joyfr\\anaconda3\\lib\\site-packages (from matplotlib) (2.8.2)\n",
      "Requirement already satisfied: importlib-resources>=3.2.0 in c:\\users\\joyfr\\anaconda3\\lib\\site-packages (from matplotlib) (6.0.0)\n",
      "Requirement already satisfied: zipp>=3.1.0 in c:\\users\\joyfr\\anaconda3\\lib\\site-packages (from importlib-resources>=3.2.0->matplotlib) (3.8.0)\n",
      "Requirement already satisfied: six>=1.5 in c:\\users\\joyfr\\anaconda3\\lib\\site-packages (from python-dateutil>=2.7->matplotlib) (1.16.0)\n",
      "Note: you may need to restart the kernel to use updated packages.\n"
     ]
    },
    {
     "name": "stderr",
     "output_type": "stream",
     "text": [
      "WARNING: Ignoring invalid distribution -atplotlib (c:\\users\\joyfr\\anaconda3\\lib\\site-packages)\n",
      "WARNING: Ignoring invalid distribution -atplotlib (c:\\users\\joyfr\\anaconda3\\lib\\site-packages)\n"
     ]
    }
   ],
   "source": [
    "pip install matplotlib"
   ]
  },
  {
   "cell_type": "code",
   "execution_count": 3,
   "metadata": {},
   "outputs": [],
   "source": [
    "# импортируем библиотеки\n",
    "import pandas as pd\n",
    "import matplotlib.pyplot as plt\n",
    "import seaborn as sns\n",
    "from scipy.stats import shapiro, mannwhitneyu, ttest_ind\n",
    "import scipy.stats as stats\n",
    "import plotly.express as px"
   ]
  },
  {
   "cell_type": "code",
   "execution_count": 4,
   "metadata": {},
   "outputs": [],
   "source": [
    "#напишем функцию для первичного анализа датасета\n",
    "def check_data_modify(data_df):\n",
    "    print('\\033[1m' + 'Изучим исходные данные' + '\\033[0m')\n",
    "    data_df.info()\n",
    "    print('Размер датасета:', data_df.shape)\n",
    "\n",
    "    print('*' * 50)\n",
    "    missed_rows = sum(data_df.isnull().sum(axis=1) > 0) / data_df.shape[0]\n",
    "    print('\\033[1m' + 'Проверка пропусков' + '\\033[0m')\n",
    "    print('Доля строк содержащих пропуски: {:.1%}'.format(missed_rows))\n",
    "\n",
    "    print('*' * 50)\n",
    "    print('\\033[1m' + 'Проверка на дубликаты' + '\\033[0m')\n",
    "    print('Количество полных дубликатов:', data_df.duplicated().sum())\n",
    "\n",
    "    print('*' * 50)\n",
    "    print('\\033[1m' + 'Первые пять строк датасета' + '\\033[0m')\n",
    "    display(data_df.head())\n"
   ]
  },
  {
   "cell_type": "code",
   "execution_count": 5,
   "metadata": {},
   "outputs": [],
   "source": [
    "#функция проверки пропусков в дф\n",
    "def check_missing_values(df):\n",
    "    missing_values = df.isnull().sum()\n",
    "    if missing_values.sum() == 0:\n",
    "        print(\"Все столбцы не содержат пропущенных значений.\")\n",
    "    else:\n",
    "        print(\"Столбцы с пропущенными значениями:\")\n",
    "        for column, count in missing_values.items():\n",
    "            if count > 0:\n",
    "                print(f\"{column}: {count} пропущенных значений\")"
   ]
  },
  {
   "cell_type": "markdown",
   "metadata": {},
   "source": [
    "###   Загрузить данные из файлов telecom_dataset.csv.zip .Изучить структуру и содержание данных."
   ]
  },
  {
   "cell_type": "code",
   "execution_count": 6,
   "metadata": {},
   "outputs": [],
   "source": [
    "#читаем файл\n",
    "df=pd.read_csv('https://code.s3.yandex.net/datasets/telecom_dataset.csv')"
   ]
  },
  {
   "cell_type": "code",
   "execution_count": 7,
   "metadata": {},
   "outputs": [
    {
     "data": {
      "text/html": [
       "<div>\n",
       "<style scoped>\n",
       "    .dataframe tbody tr th:only-of-type {\n",
       "        vertical-align: middle;\n",
       "    }\n",
       "\n",
       "    .dataframe tbody tr th {\n",
       "        vertical-align: top;\n",
       "    }\n",
       "\n",
       "    .dataframe thead th {\n",
       "        text-align: right;\n",
       "    }\n",
       "</style>\n",
       "<table border=\"1\" class=\"dataframe\">\n",
       "  <thead>\n",
       "    <tr style=\"text-align: right;\">\n",
       "      <th></th>\n",
       "      <th>user_id</th>\n",
       "      <th>date</th>\n",
       "      <th>direction</th>\n",
       "      <th>internal</th>\n",
       "      <th>operator_id</th>\n",
       "      <th>is_missed_call</th>\n",
       "      <th>calls_count</th>\n",
       "      <th>call_duration</th>\n",
       "      <th>total_call_duration</th>\n",
       "    </tr>\n",
       "  </thead>\n",
       "  <tbody>\n",
       "    <tr>\n",
       "      <th>0</th>\n",
       "      <td>166377</td>\n",
       "      <td>2019-08-04 00:00:00+03:00</td>\n",
       "      <td>in</td>\n",
       "      <td>False</td>\n",
       "      <td>NaN</td>\n",
       "      <td>True</td>\n",
       "      <td>2</td>\n",
       "      <td>0</td>\n",
       "      <td>4</td>\n",
       "    </tr>\n",
       "    <tr>\n",
       "      <th>1</th>\n",
       "      <td>166377</td>\n",
       "      <td>2019-08-05 00:00:00+03:00</td>\n",
       "      <td>out</td>\n",
       "      <td>True</td>\n",
       "      <td>880022.0</td>\n",
       "      <td>True</td>\n",
       "      <td>3</td>\n",
       "      <td>0</td>\n",
       "      <td>5</td>\n",
       "    </tr>\n",
       "    <tr>\n",
       "      <th>2</th>\n",
       "      <td>166377</td>\n",
       "      <td>2019-08-05 00:00:00+03:00</td>\n",
       "      <td>out</td>\n",
       "      <td>True</td>\n",
       "      <td>880020.0</td>\n",
       "      <td>True</td>\n",
       "      <td>1</td>\n",
       "      <td>0</td>\n",
       "      <td>1</td>\n",
       "    </tr>\n",
       "    <tr>\n",
       "      <th>3</th>\n",
       "      <td>166377</td>\n",
       "      <td>2019-08-05 00:00:00+03:00</td>\n",
       "      <td>out</td>\n",
       "      <td>True</td>\n",
       "      <td>880020.0</td>\n",
       "      <td>False</td>\n",
       "      <td>1</td>\n",
       "      <td>10</td>\n",
       "      <td>18</td>\n",
       "    </tr>\n",
       "    <tr>\n",
       "      <th>4</th>\n",
       "      <td>166377</td>\n",
       "      <td>2019-08-05 00:00:00+03:00</td>\n",
       "      <td>out</td>\n",
       "      <td>False</td>\n",
       "      <td>880022.0</td>\n",
       "      <td>True</td>\n",
       "      <td>3</td>\n",
       "      <td>0</td>\n",
       "      <td>25</td>\n",
       "    </tr>\n",
       "    <tr>\n",
       "      <th>...</th>\n",
       "      <td>...</td>\n",
       "      <td>...</td>\n",
       "      <td>...</td>\n",
       "      <td>...</td>\n",
       "      <td>...</td>\n",
       "      <td>...</td>\n",
       "      <td>...</td>\n",
       "      <td>...</td>\n",
       "      <td>...</td>\n",
       "    </tr>\n",
       "    <tr>\n",
       "      <th>53897</th>\n",
       "      <td>168606</td>\n",
       "      <td>2019-11-10 00:00:00+03:00</td>\n",
       "      <td>out</td>\n",
       "      <td>True</td>\n",
       "      <td>957922.0</td>\n",
       "      <td>True</td>\n",
       "      <td>1</td>\n",
       "      <td>0</td>\n",
       "      <td>38</td>\n",
       "    </tr>\n",
       "    <tr>\n",
       "      <th>53898</th>\n",
       "      <td>168606</td>\n",
       "      <td>2019-11-11 00:00:00+03:00</td>\n",
       "      <td>out</td>\n",
       "      <td>True</td>\n",
       "      <td>957922.0</td>\n",
       "      <td>False</td>\n",
       "      <td>2</td>\n",
       "      <td>479</td>\n",
       "      <td>501</td>\n",
       "    </tr>\n",
       "    <tr>\n",
       "      <th>53899</th>\n",
       "      <td>168606</td>\n",
       "      <td>2019-11-15 00:00:00+03:00</td>\n",
       "      <td>out</td>\n",
       "      <td>True</td>\n",
       "      <td>957922.0</td>\n",
       "      <td>False</td>\n",
       "      <td>4</td>\n",
       "      <td>3130</td>\n",
       "      <td>3190</td>\n",
       "    </tr>\n",
       "    <tr>\n",
       "      <th>53900</th>\n",
       "      <td>168606</td>\n",
       "      <td>2019-11-15 00:00:00+03:00</td>\n",
       "      <td>out</td>\n",
       "      <td>True</td>\n",
       "      <td>957922.0</td>\n",
       "      <td>False</td>\n",
       "      <td>4</td>\n",
       "      <td>3130</td>\n",
       "      <td>3190</td>\n",
       "    </tr>\n",
       "    <tr>\n",
       "      <th>53901</th>\n",
       "      <td>168606</td>\n",
       "      <td>2019-11-19 00:00:00+03:00</td>\n",
       "      <td>in</td>\n",
       "      <td>False</td>\n",
       "      <td>NaN</td>\n",
       "      <td>True</td>\n",
       "      <td>2</td>\n",
       "      <td>0</td>\n",
       "      <td>64</td>\n",
       "    </tr>\n",
       "  </tbody>\n",
       "</table>\n",
       "<p>53902 rows × 9 columns</p>\n",
       "</div>"
      ],
      "text/plain": [
       "       user_id                       date direction internal  operator_id  \\\n",
       "0       166377  2019-08-04 00:00:00+03:00        in    False          NaN   \n",
       "1       166377  2019-08-05 00:00:00+03:00       out     True     880022.0   \n",
       "2       166377  2019-08-05 00:00:00+03:00       out     True     880020.0   \n",
       "3       166377  2019-08-05 00:00:00+03:00       out     True     880020.0   \n",
       "4       166377  2019-08-05 00:00:00+03:00       out    False     880022.0   \n",
       "...        ...                        ...       ...      ...          ...   \n",
       "53897   168606  2019-11-10 00:00:00+03:00       out     True     957922.0   \n",
       "53898   168606  2019-11-11 00:00:00+03:00       out     True     957922.0   \n",
       "53899   168606  2019-11-15 00:00:00+03:00       out     True     957922.0   \n",
       "53900   168606  2019-11-15 00:00:00+03:00       out     True     957922.0   \n",
       "53901   168606  2019-11-19 00:00:00+03:00        in    False          NaN   \n",
       "\n",
       "       is_missed_call  calls_count  call_duration  total_call_duration  \n",
       "0                True            2              0                    4  \n",
       "1                True            3              0                    5  \n",
       "2                True            1              0                    1  \n",
       "3               False            1             10                   18  \n",
       "4                True            3              0                   25  \n",
       "...               ...          ...            ...                  ...  \n",
       "53897            True            1              0                   38  \n",
       "53898           False            2            479                  501  \n",
       "53899           False            4           3130                 3190  \n",
       "53900           False            4           3130                 3190  \n",
       "53901            True            2              0                   64  \n",
       "\n",
       "[53902 rows x 9 columns]"
      ]
     },
     "metadata": {},
     "output_type": "display_data"
    }
   ],
   "source": [
    "display(df)"
   ]
  },
  {
   "cell_type": "code",
   "execution_count": 8,
   "metadata": {},
   "outputs": [
    {
     "name": "stdout",
     "output_type": "stream",
     "text": [
      "\u001b[1mИзучим исходные данные\u001b[0m\n",
      "<class 'pandas.core.frame.DataFrame'>\n",
      "RangeIndex: 53902 entries, 0 to 53901\n",
      "Data columns (total 9 columns):\n",
      " #   Column               Non-Null Count  Dtype  \n",
      "---  ------               --------------  -----  \n",
      " 0   user_id              53902 non-null  int64  \n",
      " 1   date                 53902 non-null  object \n",
      " 2   direction            53902 non-null  object \n",
      " 3   internal             53785 non-null  object \n",
      " 4   operator_id          45730 non-null  float64\n",
      " 5   is_missed_call       53902 non-null  bool   \n",
      " 6   calls_count          53902 non-null  int64  \n",
      " 7   call_duration        53902 non-null  int64  \n",
      " 8   total_call_duration  53902 non-null  int64  \n",
      "dtypes: bool(1), float64(1), int64(4), object(3)\n",
      "memory usage: 3.3+ MB\n",
      "Размер датасета: (53902, 9)\n",
      "**************************************************\n",
      "\u001b[1mПроверка пропусков\u001b[0m\n",
      "Доля строк содержащих пропуски: 15.3%\n",
      "**************************************************\n",
      "\u001b[1mПроверка на дубликаты\u001b[0m\n",
      "Количество полных дубликатов: 4900\n",
      "**************************************************\n",
      "\u001b[1mПервые пять строк датасета\u001b[0m\n"
     ]
    },
    {
     "data": {
      "text/html": [
       "<div>\n",
       "<style scoped>\n",
       "    .dataframe tbody tr th:only-of-type {\n",
       "        vertical-align: middle;\n",
       "    }\n",
       "\n",
       "    .dataframe tbody tr th {\n",
       "        vertical-align: top;\n",
       "    }\n",
       "\n",
       "    .dataframe thead th {\n",
       "        text-align: right;\n",
       "    }\n",
       "</style>\n",
       "<table border=\"1\" class=\"dataframe\">\n",
       "  <thead>\n",
       "    <tr style=\"text-align: right;\">\n",
       "      <th></th>\n",
       "      <th>user_id</th>\n",
       "      <th>date</th>\n",
       "      <th>direction</th>\n",
       "      <th>internal</th>\n",
       "      <th>operator_id</th>\n",
       "      <th>is_missed_call</th>\n",
       "      <th>calls_count</th>\n",
       "      <th>call_duration</th>\n",
       "      <th>total_call_duration</th>\n",
       "    </tr>\n",
       "  </thead>\n",
       "  <tbody>\n",
       "    <tr>\n",
       "      <th>0</th>\n",
       "      <td>166377</td>\n",
       "      <td>2019-08-04 00:00:00+03:00</td>\n",
       "      <td>in</td>\n",
       "      <td>False</td>\n",
       "      <td>NaN</td>\n",
       "      <td>True</td>\n",
       "      <td>2</td>\n",
       "      <td>0</td>\n",
       "      <td>4</td>\n",
       "    </tr>\n",
       "    <tr>\n",
       "      <th>1</th>\n",
       "      <td>166377</td>\n",
       "      <td>2019-08-05 00:00:00+03:00</td>\n",
       "      <td>out</td>\n",
       "      <td>True</td>\n",
       "      <td>880022.0</td>\n",
       "      <td>True</td>\n",
       "      <td>3</td>\n",
       "      <td>0</td>\n",
       "      <td>5</td>\n",
       "    </tr>\n",
       "    <tr>\n",
       "      <th>2</th>\n",
       "      <td>166377</td>\n",
       "      <td>2019-08-05 00:00:00+03:00</td>\n",
       "      <td>out</td>\n",
       "      <td>True</td>\n",
       "      <td>880020.0</td>\n",
       "      <td>True</td>\n",
       "      <td>1</td>\n",
       "      <td>0</td>\n",
       "      <td>1</td>\n",
       "    </tr>\n",
       "    <tr>\n",
       "      <th>3</th>\n",
       "      <td>166377</td>\n",
       "      <td>2019-08-05 00:00:00+03:00</td>\n",
       "      <td>out</td>\n",
       "      <td>True</td>\n",
       "      <td>880020.0</td>\n",
       "      <td>False</td>\n",
       "      <td>1</td>\n",
       "      <td>10</td>\n",
       "      <td>18</td>\n",
       "    </tr>\n",
       "    <tr>\n",
       "      <th>4</th>\n",
       "      <td>166377</td>\n",
       "      <td>2019-08-05 00:00:00+03:00</td>\n",
       "      <td>out</td>\n",
       "      <td>False</td>\n",
       "      <td>880022.0</td>\n",
       "      <td>True</td>\n",
       "      <td>3</td>\n",
       "      <td>0</td>\n",
       "      <td>25</td>\n",
       "    </tr>\n",
       "  </tbody>\n",
       "</table>\n",
       "</div>"
      ],
      "text/plain": [
       "   user_id                       date direction internal  operator_id  \\\n",
       "0   166377  2019-08-04 00:00:00+03:00        in    False          NaN   \n",
       "1   166377  2019-08-05 00:00:00+03:00       out     True     880022.0   \n",
       "2   166377  2019-08-05 00:00:00+03:00       out     True     880020.0   \n",
       "3   166377  2019-08-05 00:00:00+03:00       out     True     880020.0   \n",
       "4   166377  2019-08-05 00:00:00+03:00       out    False     880022.0   \n",
       "\n",
       "   is_missed_call  calls_count  call_duration  total_call_duration  \n",
       "0            True            2              0                    4  \n",
       "1            True            3              0                    5  \n",
       "2            True            1              0                    1  \n",
       "3           False            1             10                   18  \n",
       "4            True            3              0                   25  "
      ]
     },
     "metadata": {},
     "output_type": "display_data"
    }
   ],
   "source": [
    "check_data_modify(df)"
   ]
  },
  {
   "cell_type": "markdown",
   "metadata": {},
   "source": [
    "###  Проверим наличие пропущенных и дублирующих значений и обработать их при необходимости."
   ]
  },
  {
   "cell_type": "code",
   "execution_count": 9,
   "metadata": {},
   "outputs": [],
   "source": [
    "#удалим полные дубликаты\n",
    "df=df.drop_duplicates()"
   ]
  },
  {
   "cell_type": "code",
   "execution_count": 10,
   "metadata": {},
   "outputs": [
    {
     "name": "stdout",
     "output_type": "stream",
     "text": [
      "Столбцы с пропущенными значениями:\n",
      "internal: 110 пропущенных значений\n",
      "operator_id: 7456 пропущенных значений\n"
     ]
    }
   ],
   "source": [
    "#проверим на пропуски\n",
    "check_missing_values(df)"
   ]
  },
  {
   "cell_type": "code",
   "execution_count": 11,
   "metadata": {},
   "outputs": [
    {
     "name": "stdout",
     "output_type": "stream",
     "text": [
      "Все столбцы не содержат пропущенных значений.\n"
     ]
    }
   ],
   "source": [
    "#пропуски internal заменим на -1\n",
    "df_copy = df.copy()\n",
    "df_copy['internal'] = df_copy['internal'].fillna(-1)\n",
    "\n",
    "#пропуски operator_id заменим на 0\n",
    "df_copy['operator_id'] = df_copy['operator_id'].fillna(0)\n",
    "\n",
    "#проверим пропуски в дф\n",
    "check_missing_values(df_copy)"
   ]
  },
  {
   "cell_type": "markdown",
   "metadata": {},
   "source": [
    "Думаю раз operator_id имеет пропущенные значения, а нам эти данные(operator_id) важны для определения качества работы оператора, то без идентификатора операторам мы не сможем ничего проанлизировать.Стоит удалить данные и пропуски вмете с ними, и работать с очищенным дф"
   ]
  },
  {
   "cell_type": "markdown",
   "metadata": {},
   "source": [
    "Рассмотрим как распределены такие операторы по колл-центрам"
   ]
  },
  {
   "cell_type": "code",
   "execution_count": 12,
   "metadata": {},
   "outputs": [
    {
     "data": {
      "image/png": "[encoded data removed]",
      "text/plain": [
       "<Figure size 600x600 with 1 Axes>"
      ]
     },
     "metadata": {},
     "output_type": "display_data"
    }
   ],
   "source": [
    "\n",
    "# Создание подвыборки с условием operator_id == 0\n",
    "sub_df = df_copy[df_copy['operator_id'] == 0]\n",
    "\n",
    "# Группировка значений по direction и подсчет их количества\n",
    "grouped_data = sub_df.groupby('direction').size()\n",
    "\n",
    "# Построение столбцов\n",
    "plt.figure(figsize=(6, 6))\n",
    "plt.bar(grouped_data.index, grouped_data, color='skyblue')\n",
    "plt.xlabel('direction')\n",
    "plt.ylabel('Частота')\n",
    "plt.title('Распределение значений operator_id==0 по direction')\n",
    "\n",
    "plt.show()\n"
   ]
  },
  {
   "cell_type": "code",
   "execution_count": 13,
   "metadata": {},
   "outputs": [
    {
     "data": {
      "text/plain": [
       "direction\n",
       "in     7270\n",
       "out     186\n",
       "dtype: int64"
      ]
     },
     "metadata": {},
     "output_type": "display_data"
    }
   ],
   "source": [
    "display(grouped_data)"
   ]
  },
  {
   "cell_type": "code",
   "execution_count": 14,
   "metadata": {},
   "outputs": [],
   "source": [
    "#удаляем пропуски где неизвестен оператор\n",
    "df_copy = df_copy[df_copy['operator_id'] != 0]"
   ]
  },
  {
   "cell_type": "markdown",
   "metadata": {},
   "source": [
    "### Произвести первичную обработку данных, включая преобразование типов данных "
   ]
  },
  {
   "cell_type": "code",
   "execution_count": 15,
   "metadata": {},
   "outputs": [],
   "source": [
    "# Преобразование данных в верный формат\n",
    "df_copy = df_copy.astype({\n",
    "    'date': 'datetime64',\n",
    "    'internal': bool,\n",
    "    'operator_id': int\n",
    "})"
   ]
  },
  {
   "cell_type": "code",
   "execution_count": 16,
   "metadata": {},
   "outputs": [
    {
     "name": "stdout",
     "output_type": "stream",
     "text": [
      "\u001b[1mИзучим исходные данные\u001b[0m\n",
      "<class 'pandas.core.frame.DataFrame'>\n",
      "Int64Index: 41546 entries, 1 to 53899\n",
      "Data columns (total 9 columns):\n",
      " #   Column               Non-Null Count  Dtype         \n",
      "---  ------               --------------  -----         \n",
      " 0   user_id              41546 non-null  int64         \n",
      " 1   date                 41546 non-null  datetime64[ns]\n",
      " 2   direction            41546 non-null  object        \n",
      " 3   internal             41546 non-null  bool          \n",
      " 4   operator_id          41546 non-null  int32         \n",
      " 5   is_missed_call       41546 non-null  bool          \n",
      " 6   calls_count          41546 non-null  int64         \n",
      " 7   call_duration        41546 non-null  int64         \n",
      " 8   total_call_duration  41546 non-null  int64         \n",
      "dtypes: bool(2), datetime64[ns](1), int32(1), int64(4), object(1)\n",
      "memory usage: 2.5+ MB\n",
      "Размер датасета: (41546, 9)\n",
      "**************************************************\n",
      "\u001b[1mПроверка пропусков\u001b[0m\n",
      "Доля строк содержащих пропуски: 0.0%\n",
      "**************************************************\n",
      "\u001b[1mПроверка на дубликаты\u001b[0m\n",
      "Количество полных дубликатов: 0\n",
      "**************************************************\n",
      "\u001b[1mПервые пять строк датасета\u001b[0m\n"
     ]
    },
    {
     "data": {
      "text/html": [
       "<div>\n",
       "<style scoped>\n",
       "    .dataframe tbody tr th:only-of-type {\n",
       "        vertical-align: middle;\n",
       "    }\n",
       "\n",
       "    .dataframe tbody tr th {\n",
       "        vertical-align: top;\n",
       "    }\n",
       "\n",
       "    .dataframe thead th {\n",
       "        text-align: right;\n",
       "    }\n",
       "</style>\n",
       "<table border=\"1\" class=\"dataframe\">\n",
       "  <thead>\n",
       "    <tr style=\"text-align: right;\">\n",
       "      <th></th>\n",
       "      <th>user_id</th>\n",
       "      <th>date</th>\n",
       "      <th>direction</th>\n",
       "      <th>internal</th>\n",
       "      <th>operator_id</th>\n",
       "      <th>is_missed_call</th>\n",
       "      <th>calls_count</th>\n",
       "      <th>call_duration</th>\n",
       "      <th>total_call_duration</th>\n",
       "    </tr>\n",
       "  </thead>\n",
       "  <tbody>\n",
       "    <tr>\n",
       "      <th>1</th>\n",
       "      <td>166377</td>\n",
       "      <td>2019-08-04 21:00:00</td>\n",
       "      <td>out</td>\n",
       "      <td>True</td>\n",
       "      <td>880022</td>\n",
       "      <td>True</td>\n",
       "      <td>3</td>\n",
       "      <td>0</td>\n",
       "      <td>5</td>\n",
       "    </tr>\n",
       "    <tr>\n",
       "      <th>2</th>\n",
       "      <td>166377</td>\n",
       "      <td>2019-08-04 21:00:00</td>\n",
       "      <td>out</td>\n",
       "      <td>True</td>\n",
       "      <td>880020</td>\n",
       "      <td>True</td>\n",
       "      <td>1</td>\n",
       "      <td>0</td>\n",
       "      <td>1</td>\n",
       "    </tr>\n",
       "    <tr>\n",
       "      <th>3</th>\n",
       "      <td>166377</td>\n",
       "      <td>2019-08-04 21:00:00</td>\n",
       "      <td>out</td>\n",
       "      <td>True</td>\n",
       "      <td>880020</td>\n",
       "      <td>False</td>\n",
       "      <td>1</td>\n",
       "      <td>10</td>\n",
       "      <td>18</td>\n",
       "    </tr>\n",
       "    <tr>\n",
       "      <th>4</th>\n",
       "      <td>166377</td>\n",
       "      <td>2019-08-04 21:00:00</td>\n",
       "      <td>out</td>\n",
       "      <td>False</td>\n",
       "      <td>880022</td>\n",
       "      <td>True</td>\n",
       "      <td>3</td>\n",
       "      <td>0</td>\n",
       "      <td>25</td>\n",
       "    </tr>\n",
       "    <tr>\n",
       "      <th>5</th>\n",
       "      <td>166377</td>\n",
       "      <td>2019-08-04 21:00:00</td>\n",
       "      <td>out</td>\n",
       "      <td>False</td>\n",
       "      <td>880020</td>\n",
       "      <td>False</td>\n",
       "      <td>2</td>\n",
       "      <td>3</td>\n",
       "      <td>29</td>\n",
       "    </tr>\n",
       "  </tbody>\n",
       "</table>\n",
       "</div>"
      ],
      "text/plain": [
       "   user_id                date direction  internal  operator_id  \\\n",
       "1   166377 2019-08-04 21:00:00       out      True       880022   \n",
       "2   166377 2019-08-04 21:00:00       out      True       880020   \n",
       "3   166377 2019-08-04 21:00:00       out      True       880020   \n",
       "4   166377 2019-08-04 21:00:00       out     False       880022   \n",
       "5   166377 2019-08-04 21:00:00       out     False       880020   \n",
       "\n",
       "   is_missed_call  calls_count  call_duration  total_call_duration  \n",
       "1            True            3              0                    5  \n",
       "2            True            1              0                    1  \n",
       "3           False            1             10                   18  \n",
       "4            True            3              0                   25  \n",
       "5           False            2              3                   29  "
      ]
     },
     "metadata": {},
     "output_type": "display_data"
    }
   ],
   "source": [
    "#изучим датасет\n",
    "check_data_modify(df_copy)"
   ]
  },
  {
   "cell_type": "markdown",
   "metadata": {},
   "source": [
    "Предобработка завешена, можно приступать к анализу критериев эффективности операторов"
   ]
  },
  {
   "cell_type": "markdown",
   "metadata": {},
   "source": [
    "## Анализ эффективности операторов:"
   ]
  },
  {
   "cell_type": "markdown",
   "metadata": {},
   "source": [
    "### Рассмотрм основные признаки, связанные с эффективностью операторов, такие как количество пропущенных входящих вызовов, длительность ожидания ответа при входящих вызовах и длительность разговора"
   ]
  },
  {
   "cell_type": "markdown",
   "metadata": {},
   "source": [
    "Для оценки эффективности оператора в данной задаче можно рассмотреть следующие критерии:\n",
    "\n",
    "1 Пропущенные вызовы: Количество пропущенных вызовов, в % отношении к общему числу входящих, может быть показателем низкой эффективности оператора. Можно проверить, сколько вызовов было пропущено каждым оператором и сравнить эту метрику между операторами.\n",
    "\n",
    "2 Время ожидания: Длительность ожидания ответа при входящих вызовах может указывать на эффективность оператора. Можно рассчитать среднее время ожидания ответа для каждого оператора и сравнить его.\n",
    "\n",
    "3 Длительность звонков: Длительность звонков может быть связана с эффективностью оператора. Можно рассчитать среднюю длительность звонков для каждого оператора и сравнить.\n"
   ]
  },
  {
   "cell_type": "markdown",
   "metadata": {},
   "source": [
    "#### Критерий КОЛИЧЕСТВО ПРОПУЩЕННЫХ"
   ]
  },
  {
   "cell_type": "code",
   "execution_count": 17,
   "metadata": {},
   "outputs": [
    {
     "data": {
      "image/png": "[encoded data removed]",
      "text/plain": [
       "<Figure size 2000x1600 with 1 Axes>"
      ]
     },
     "metadata": {},
     "output_type": "display_data"
    }
   ],
   "source": [
    "total_missed_calls_by_operator = df_copy[df_copy['internal'] == False].groupby('operator_id')['is_missed_call'].sum()\n",
    "total_missed_calls_by_operator = total_missed_calls_by_operator.sort_values(ascending=True)\n",
    "\n",
    "plt.figure(figsize=(20, 16))\n",
    "total_missed_calls_by_operator.hist()\n",
    "plt.xlabel('количество пропущенных')\n",
    "plt.ylabel('Count')\n",
    "plt.title('Гистограмма пропущенных вызовов по операторам')\n",
    "plt.show()"
   ]
  },
  {
   "cell_type": "code",
   "execution_count": 18,
   "metadata": {},
   "outputs": [
    {
     "name": "stdout",
     "output_type": "stream",
     "text": [
      "Количество уникальных операторов: 1092\n"
     ]
    }
   ],
   "source": [
    "# Подсчет количества уникальных значений 'operator_id'\n",
    "unique_operators = df_copy['operator_id'].nunique()\n",
    "# Вывод результата\n",
    "print(\"Количество уникальных операторов:\", unique_operators)"
   ]
  },
  {
   "cell_type": "code",
   "execution_count": 19,
   "metadata": {},
   "outputs": [
    {
     "name": "stdout",
     "output_type": "stream",
     "text": [
      "      operator_id  total_missed_calls  total_calls  missed_calls_ratio\n",
      "684        937778                   1            1               100.0\n",
      "859        947480                   1            1               100.0\n",
      "681        937770                   1            1               100.0\n",
      "699        937872                   1            1               100.0\n",
      "252        905570                   3            3               100.0\n",
      "...           ...                 ...          ...                 ...\n",
      "369        914172                   0            6                 0.0\n",
      "163        899892                   0            3                 0.0\n",
      "603        931914                   0           31                 0.0\n",
      "599        930910                   0           12                 0.0\n",
      "1054       973286                   0            2                 0.0\n",
      "\n",
      "[1055 rows x 4 columns]\n"
     ]
    }
   ],
   "source": [
    "# Группировка по операторам и подсчет общего количества пропущенных вызовов\n",
    "total_missed_calls_by_operator = df_copy[df_copy['internal'] == False].groupby('operator_id')['is_missed_call'].sum()\n",
    "\n",
    "# Группировка по операторам и подсчет общего количества вызовов\n",
    "total_calls_by_operator = df_copy[df_copy['internal'] == False].groupby('operator_id')['calls_count'].sum()\n",
    "\n",
    "# Создание DataFrame с операторами и их пропущенными вызовами\n",
    "df_missed_calls_ratio = pd.DataFrame({'operator_id': total_missed_calls_by_operator.index,\n",
    "                                      'total_missed_calls': total_missed_calls_by_operator.values,\n",
    "                                      'total_calls': total_calls_by_operator.values})\n",
    "\n",
    "# Добавление столбца 'missed_calls_ratio' с процентом пропущенных вызовов\n",
    "df_missed_calls_ratio['missed_calls_ratio'] = df_missed_calls_ratio['total_missed_calls'] / df_missed_calls_ratio['total_calls']\n",
    "df_missed_calls_ratio['missed_calls_ratio'] = df_missed_calls_ratio['missed_calls_ratio'].round(3) * 100\n",
    "# Сортировка по столбцу 'missed_calls_percent' в порядке убывания\n",
    "df_missed_calls_ratio = df_missed_calls_ratio.sort_values('missed_calls_ratio', ascending=False)\n",
    "\n",
    "\n",
    "# Вывод результата\n",
    "print(df_missed_calls_ratio)"
   ]
  },
  {
   "cell_type": "code",
   "execution_count": 20,
   "metadata": {},
   "outputs": [
    {
     "data": {
      "text/plain": [
       "count    1055.000000\n",
       "mean        8.734123\n",
       "std        16.318764\n",
       "min         0.000000\n",
       "25%         0.600000\n",
       "50%         3.300000\n",
       "75%         9.600000\n",
       "max       100.000000\n",
       "Name: missed_calls_ratio, dtype: float64"
      ]
     },
     "execution_count": 20,
     "metadata": {},
     "output_type": "execute_result"
    }
   ],
   "source": [
    "df_missed_calls_ratio['missed_calls_ratio'].describe()"
   ]
  },
  {
   "cell_type": "markdown",
   "metadata": {},
   "source": [
    "Будем считать критерий эффективности % пропущеных значений это больше или равно 9.6% пропущеных от общего числа звонков"
   ]
  },
  {
   "cell_type": "code",
   "execution_count": 21,
   "metadata": {},
   "outputs": [
    {
     "data": {
      "image/png": "[encoded data removed]",
      "text/plain": [
       "<Figure size 2000x1600 with 1 Axes>"
      ]
     },
     "metadata": {},
     "output_type": "display_data"
    }
   ],
   "source": [
    "plt.figure(figsize=(20, 16))\n",
    "plt.bar(range(len(df_missed_calls_ratio)), df_missed_calls_ratio['missed_calls_ratio'])\n",
    "plt.axhline(y=9.6, color='red', linestyle='--')  # Горизонтальная линия на уровне 9.6\n",
    "plt.xlabel('Количество операторов')\n",
    "plt.ylabel('% пропущенных')\n",
    "plt.title('% пропущенных по оператору')\n",
    "plt.show()\n"
   ]
  },
  {
   "cell_type": "markdown",
   "metadata": {},
   "source": [
    "<div class=\"alert alert-success\">\n",
    "<b>Комментарий ревьюера v2:</b>☀️\n",
    "   \n",
    "По оси `x` всё же не количество операторов, а аналоги порядковых номеров\n",
    "\n",
    "</div>"
   ]
  },
  {
   "cell_type": "code",
   "execution_count": 22,
   "metadata": {},
   "outputs": [
    {
     "data": {
      "image/png": "[encoded data removed]",
      "text/plain": [
       "<Figure size 2000x1600 with 1 Axes>"
      ]
     },
     "metadata": {},
     "output_type": "display_data"
    }
   ],
   "source": [
    "plt.figure(figsize=(20, 16))\n",
    "plt.bar(range(len(df_missed_calls_ratio)), df_missed_calls_ratio['missed_calls_ratio'])\n",
    "plt.axhline(y=9.6, color='red', linestyle='--')  # Горизонтальная линия на уровне 9.6\n",
    "plt.xlabel('Номер оператора')  # Здесь замените на название столбца с номерами операторов\n",
    "plt.ylabel('% пропущенных')\n",
    "plt.title('% пропущенных по оператору')\n",
    "plt.xticks(range(len(df_missed_calls_ratio)), df_missed_calls_ratio['operator_id'], rotation=90)  \n",
    "plt.show()"
   ]
  },
  {
   "cell_type": "code",
   "execution_count": 23,
   "metadata": {},
   "outputs": [
    {
     "name": "stdout",
     "output_type": "stream",
     "text": [
      "Отношение операторов, удовлетворяющих условию, к общему числу операторов: 24.18 %\n"
     ]
    }
   ],
   "source": [
    "# Фильтрация данных по условию missed_calls_ratio >=  9.6\n",
    "df_filtered = df_missed_calls_ratio[df_missed_calls_ratio['missed_calls_ratio'] >=  9.6]\n",
    "\n",
    "# Вычисление отношения в процентах\n",
    "ratio = round((len(df_filtered) / unique_operators) * 100, 2)\n",
    "\n",
    "# Вывод отношения\n",
    "print(\"Отношение операторов, удовлетворяющих условию, к общему числу операторов:\", ratio, \"%\")\n"
   ]
  },
  {
   "cell_type": "markdown",
   "metadata": {},
   "source": [
    "1 критерий % пропущеных ко всем принятым вызовам должен быть не менее 9.6 %"
   ]
  },
  {
   "cell_type": "markdown",
   "metadata": {},
   "source": [
    "#### Критерий ВРЕМЯ ОЖИДАНИЯ"
   ]
  },
  {
   "cell_type": "markdown",
   "metadata": {},
   "source": [
    "Длительность ожидания ответа при входящих вызовах может указывать на эффективность оператора. Можно рассчитать среднее время ожидания ответа для каждого оператора и сравнить его."
   ]
  },
  {
   "cell_type": "code",
   "execution_count": 24,
   "metadata": {},
   "outputs": [],
   "source": [
    "# Фильтрация данных только для входящих вызовов и не для пропущеных\n",
    "df_incoming_calls = df_copy[(df_copy['direction'] == 'in') & (df_copy['is_missed_call'] == False)].copy()\n",
    "\n",
    "# Вычисление времени ожидания ответа для каждого оператора\n",
    "df_incoming_calls['wait_time'] = df_incoming_calls['total_call_duration'] - df_incoming_calls['call_duration']\n",
    "# Группировка по операторам и вычисление среднего времени ожидания ответа\n",
    "mean_wait_time_by_operator = df_incoming_calls.groupby('operator_id')['wait_time'].mean()\n",
    "# Создание DataFrame с операторами и их средним временем ожидания ответа\n",
    "df_mean_wait_time = pd.DataFrame({'operator_id': mean_wait_time_by_operator.index, 'mean_wait_time': mean_wait_time_by_operator.values})\n",
    "# Сортировка по среднему времени ожидания ответа в порядке убывания\n",
    "df_mean_wait_time = df_mean_wait_time.sort_values('mean_wait_time', ascending=False)"
   ]
  },
  {
   "cell_type": "code",
   "execution_count": 25,
   "metadata": {},
   "outputs": [
    {
     "data": {
      "text/html": [
       "<div>\n",
       "<style scoped>\n",
       "    .dataframe tbody tr th:only-of-type {\n",
       "        vertical-align: middle;\n",
       "    }\n",
       "\n",
       "    .dataframe tbody tr th {\n",
       "        vertical-align: top;\n",
       "    }\n",
       "\n",
       "    .dataframe thead th {\n",
       "        text-align: right;\n",
       "    }\n",
       "</style>\n",
       "<table border=\"1\" class=\"dataframe\">\n",
       "  <thead>\n",
       "    <tr style=\"text-align: right;\">\n",
       "      <th></th>\n",
       "      <th>operator_id</th>\n",
       "      <th>mean_wait_time</th>\n",
       "    </tr>\n",
       "  </thead>\n",
       "  <tbody>\n",
       "    <tr>\n",
       "      <th>337</th>\n",
       "      <td>919794</td>\n",
       "      <td>1039.322581</td>\n",
       "    </tr>\n",
       "    <tr>\n",
       "      <th>206</th>\n",
       "      <td>906070</td>\n",
       "      <td>1018.384615</td>\n",
       "    </tr>\n",
       "    <tr>\n",
       "      <th>335</th>\n",
       "      <td>919790</td>\n",
       "      <td>866.803279</td>\n",
       "    </tr>\n",
       "    <tr>\n",
       "      <th>445</th>\n",
       "      <td>931458</td>\n",
       "      <td>834.500000</td>\n",
       "    </tr>\n",
       "    <tr>\n",
       "      <th>328</th>\n",
       "      <td>919204</td>\n",
       "      <td>774.166667</td>\n",
       "    </tr>\n",
       "    <tr>\n",
       "      <th>...</th>\n",
       "      <td>...</td>\n",
       "      <td>...</td>\n",
       "    </tr>\n",
       "    <tr>\n",
       "      <th>404</th>\n",
       "      <td>926872</td>\n",
       "      <td>1.333333</td>\n",
       "    </tr>\n",
       "    <tr>\n",
       "      <th>676</th>\n",
       "      <td>952982</td>\n",
       "      <td>1.166667</td>\n",
       "    </tr>\n",
       "    <tr>\n",
       "      <th>674</th>\n",
       "      <td>952954</td>\n",
       "      <td>1.000000</td>\n",
       "    </tr>\n",
       "    <tr>\n",
       "      <th>643</th>\n",
       "      <td>949420</td>\n",
       "      <td>1.000000</td>\n",
       "    </tr>\n",
       "    <tr>\n",
       "      <th>636</th>\n",
       "      <td>948282</td>\n",
       "      <td>1.000000</td>\n",
       "    </tr>\n",
       "  </tbody>\n",
       "</table>\n",
       "<p>753 rows × 2 columns</p>\n",
       "</div>"
      ],
      "text/plain": [
       "     operator_id  mean_wait_time\n",
       "337       919794     1039.322581\n",
       "206       906070     1018.384615\n",
       "335       919790      866.803279\n",
       "445       931458      834.500000\n",
       "328       919204      774.166667\n",
       "..           ...             ...\n",
       "404       926872        1.333333\n",
       "676       952982        1.166667\n",
       "674       952954        1.000000\n",
       "643       949420        1.000000\n",
       "636       948282        1.000000\n",
       "\n",
       "[753 rows x 2 columns]"
      ]
     },
     "execution_count": 25,
     "metadata": {},
     "output_type": "execute_result"
    }
   ],
   "source": [
    "df_mean_wait_time"
   ]
  },
  {
   "cell_type": "code",
   "execution_count": 26,
   "metadata": {},
   "outputs": [
    {
     "data": {
      "image/png": "[encoded data removed]",
      "text/plain": [
       "<Figure size 2000x1600 with 1 Axes>"
      ]
     },
     "metadata": {},
     "output_type": "display_data"
    }
   ],
   "source": [
    "plt.figure(figsize=(20, 16))\n",
    "df_mean_wait_time['mean_wait_time'].hist()\n",
    "\n",
    "plt.ylabel('Ср. время ожидания')\n",
    "plt.title('Гистограма среднее время ожидания по каждому оператору')\n",
    "plt.show()"
   ]
  },
  {
   "cell_type": "code",
   "execution_count": 27,
   "metadata": {},
   "outputs": [
    {
     "data": {
      "text/plain": [
       "count     753.000000\n",
       "mean       61.658829\n",
       "std       107.011830\n",
       "min         1.000000\n",
       "25%        17.888889\n",
       "50%        31.125000\n",
       "75%        59.489362\n",
       "max      1039.322581\n",
       "Name: mean_wait_time, dtype: float64"
      ]
     },
     "execution_count": 27,
     "metadata": {},
     "output_type": "execute_result"
    }
   ],
   "source": [
    "#проанализируем дф по операторам и вычисление среднего времени ожидания ответа\n",
    "df_mean_wait_time['mean_wait_time'].describe()"
   ]
  },
  {
   "cell_type": "markdown",
   "metadata": {},
   "source": [
    " В нашем случае можно взять критерий-район 50% процититиль, все что выше это уже не эфективность"
   ]
  },
  {
   "cell_type": "code",
   "execution_count": 28,
   "metadata": {},
   "outputs": [
    {
     "data": {
      "image/png": "[encoded data removed]",
      "text/plain": [
       "<Figure size 2000x1600 with 1 Axes>"
      ]
     },
     "metadata": {},
     "output_type": "display_data"
    }
   ],
   "source": [
    "plt.figure(figsize=(20, 16))\n",
    "plt.bar(range(len(df_mean_wait_time)), df_mean_wait_time['mean_wait_time'])\n",
    "plt.axhline(y=30, color='red', linestyle='--')  # Горизонтальная линия на уровне 30\n",
    "plt.xlabel('Операторы')\n",
    "plt.ylabel('Среднее время ожидания ответа (в секундах)')\n",
    "plt.title('Среднее время ожидания ответа для входящих вызовов')\n",
    "plt.xticks(range(len(df_mean_wait_time)), [])\n",
    "plt.show()"
   ]
  },
  {
   "cell_type": "code",
   "execution_count": 30,
   "metadata": {},
   "outputs": [
    {
     "data": {
      "text/html": [
       "<div>\n",
       "<style scoped>\n",
       "    .dataframe tbody tr th:only-of-type {\n",
       "        vertical-align: middle;\n",
       "    }\n",
       "\n",
       "    .dataframe tbody tr th {\n",
       "        vertical-align: top;\n",
       "    }\n",
       "\n",
       "    .dataframe thead th {\n",
       "        text-align: right;\n",
       "    }\n",
       "</style>\n",
       "<table border=\"1\" class=\"dataframe\">\n",
       "  <thead>\n",
       "    <tr style=\"text-align: right;\">\n",
       "      <th></th>\n",
       "      <th>operator_id</th>\n",
       "      <th>mean_wait_time</th>\n",
       "    </tr>\n",
       "  </thead>\n",
       "  <tbody>\n",
       "    <tr>\n",
       "      <th>337</th>\n",
       "      <td>919794</td>\n",
       "      <td>1039.322581</td>\n",
       "    </tr>\n",
       "    <tr>\n",
       "      <th>206</th>\n",
       "      <td>906070</td>\n",
       "      <td>1018.384615</td>\n",
       "    </tr>\n",
       "    <tr>\n",
       "      <th>335</th>\n",
       "      <td>919790</td>\n",
       "      <td>866.803279</td>\n",
       "    </tr>\n",
       "    <tr>\n",
       "      <th>445</th>\n",
       "      <td>931458</td>\n",
       "      <td>834.500000</td>\n",
       "    </tr>\n",
       "    <tr>\n",
       "      <th>328</th>\n",
       "      <td>919204</td>\n",
       "      <td>774.166667</td>\n",
       "    </tr>\n",
       "    <tr>\n",
       "      <th>...</th>\n",
       "      <td>...</td>\n",
       "      <td>...</td>\n",
       "    </tr>\n",
       "    <tr>\n",
       "      <th>404</th>\n",
       "      <td>926872</td>\n",
       "      <td>1.333333</td>\n",
       "    </tr>\n",
       "    <tr>\n",
       "      <th>676</th>\n",
       "      <td>952982</td>\n",
       "      <td>1.166667</td>\n",
       "    </tr>\n",
       "    <tr>\n",
       "      <th>674</th>\n",
       "      <td>952954</td>\n",
       "      <td>1.000000</td>\n",
       "    </tr>\n",
       "    <tr>\n",
       "      <th>643</th>\n",
       "      <td>949420</td>\n",
       "      <td>1.000000</td>\n",
       "    </tr>\n",
       "    <tr>\n",
       "      <th>636</th>\n",
       "      <td>948282</td>\n",
       "      <td>1.000000</td>\n",
       "    </tr>\n",
       "  </tbody>\n",
       "</table>\n",
       "<p>753 rows × 2 columns</p>\n",
       "</div>"
      ],
      "text/plain": [
       "     operator_id  mean_wait_time\n",
       "337       919794     1039.322581\n",
       "206       906070     1018.384615\n",
       "335       919790      866.803279\n",
       "445       931458      834.500000\n",
       "328       919204      774.166667\n",
       "..           ...             ...\n",
       "404       926872        1.333333\n",
       "676       952982        1.166667\n",
       "674       952954        1.000000\n",
       "643       949420        1.000000\n",
       "636       948282        1.000000\n",
       "\n",
       "[753 rows x 2 columns]"
      ]
     },
     "execution_count": 30,
     "metadata": {},
     "output_type": "execute_result"
    }
   ],
   "source": [
    "df_mean_wait_time"
   ]
  },
  {
   "cell_type": "code",
   "execution_count": 31,
   "metadata": {},
   "outputs": [
    {
     "name": "stdout",
     "output_type": "stream",
     "text": [
      "Отношение операторов, удовлетворяющих условию, к общему числу операторов: 52.92 %\n"
     ]
    }
   ],
   "source": [
    "# Фильтрация данных по условию mean_wait_time >=  30\n",
    "df_mean_wait_time_sort = df_mean_wait_time[df_mean_wait_time['mean_wait_time'] >= 30]\n",
    "\n",
    "\n",
    "# Вычисление отношения в процентах\n",
    "ratio_wait = round((len(df_mean_wait_time_sort) / 754) * 100, 2)\n",
    "\n",
    "# Вывод отношения\n",
    "print(\"Отношение операторов, удовлетворяющих условию, к общему числу операторов:\", ratio_wait, \"%\")"
   ]
  },
  {
   "cell_type": "markdown",
   "metadata": {},
   "source": [
    "2 критерий. Время ожидания входящих не более 30 сек"
   ]
  },
  {
   "cell_type": "markdown",
   "metadata": {},
   "source": [
    "#### Критерий ДЛИТЕЛЬНОСТЬ РАЗГОВОРА"
   ]
  },
  {
   "cell_type": "code",
   "execution_count": 32,
   "metadata": {},
   "outputs": [
    {
     "data": {
      "text/plain": [
       "<Axes: >"
      ]
     },
     "execution_count": 32,
     "metadata": {},
     "output_type": "execute_result"
    },
    {
     "data": {
      "image/png": "[encoded data removed]",
      "text/plain": [
       "<Figure size 2000x1600 with 1 Axes>"
      ]
     },
     "metadata": {},
     "output_type": "display_data"
    }
   ],
   "source": [
    "plt.figure(figsize=(20, 16))\n",
    "df_copy['calls_count'].hist(bins=50)"
   ]
  },
  {
   "cell_type": "markdown",
   "metadata": {},
   "source": [
    "На мой взгля аномалньое значение  количества звонков. Попробуем удалить эти значения по  95-му процентилю"
   ]
  },
  {
   "cell_type": "code",
   "execution_count": 33,
   "metadata": {},
   "outputs": [],
   "source": [
    "# Пороговое значение по 95-му процентилю\n",
    "threshold = df_copy['calls_count'].quantile(0.95)  \n",
    "# Фильтрация данных по пороговому значению\n",
    "df_copy = df_copy[df_copy['calls_count'] <= threshold]  "
   ]
  },
  {
   "cell_type": "code",
   "execution_count": 34,
   "metadata": {},
   "outputs": [
    {
     "data": {
      "image/png": "[encoded data removed]",
      "text/plain": [
       "<Figure size 2000x1600 with 1 Axes>"
      ]
     },
     "metadata": {},
     "output_type": "display_data"
    }
   ],
   "source": [
    "# Создание группировок по оператору продолжительности вызова и количества звонков\n",
    "mean_duration_by_operator = df_copy.groupby('operator_id')['call_duration'].mean()\n",
    "mean_calls_by_operator = df_copy.groupby('operator_id')['calls_count'].mean()\n",
    "# Создание группировок и расчет отношения\n",
    "df_ratio = pd.DataFrame({'operator_id': mean_duration_by_operator.index, 'ratio': mean_duration_by_operator / mean_calls_by_operator})\n",
    "df_ratio.reset_index(drop=True, inplace=True)\n",
    "df_ratio = df_ratio.sort_values('ratio', ascending=False)\n",
    "\n",
    "# Построение графика\n",
    "plt.figure(figsize=(20, 16))\n",
    "plt.bar(range(len(df_ratio)), df_ratio['ratio'])\n",
    "plt.xlabel('Количество операторов')\n",
    "plt.ylabel('Отношение длительности звонков к количеству звонков')\n",
    "plt.title('Отношение длительности звонков к количеству звонков по операторам (без выбросов)')\n",
    "plt.xticks(range(len(df_ratio)), range(1, len(df_ratio) + 1))\n",
    "plt.ylim(0, 1000)  # Ограничение значений по оси Y до 900\n",
    "plt.show()\n"
   ]
  },
  {
   "cell_type": "markdown",
   "metadata": {},
   "source": [
    "Каждый столбец на графике соответствует определенному оператору.\n",
    "Высота столбца представляет отношение длительности звонков к количеству звонков для данного оператора.\n",
    "Чем выше столбец, тем больше отношение длительности звонков к количеству звонков у данного оператора.\n",
    "Значения на оси X соответствуют номерам операторов.\n",
    "Можно отслеживать изменения отношения по всем операторам и идентифицировать операторов с высоким или низким отношением.\n",
    "Например, если столбец оператора №1 значительно выше остальных, это означает, что у этого оператора длительность звонков превышает количество звонков"
   ]
  },
  {
   "cell_type": "code",
   "execution_count": 35,
   "metadata": {},
   "outputs": [
    {
     "data": {
      "text/plain": [
       "count    1092.000000\n",
       "mean       73.295932\n",
       "std        78.977812\n",
       "min         0.000000\n",
       "25%        30.547320\n",
       "50%        58.173961\n",
       "75%        91.245506\n",
       "max      1306.000000\n",
       "Name: ratio, dtype: float64"
      ]
     },
     "execution_count": 35,
     "metadata": {},
     "output_type": "execute_result"
    }
   ],
   "source": [
    "df_ratio['ratio'].describe()"
   ]
  },
  {
   "cell_type": "code",
   "execution_count": 36,
   "metadata": {},
   "outputs": [
    {
     "data": {
      "image/png": "[encoded data removed]",
      "text/plain": [
       "<Figure size 2000x1600 with 1 Axes>"
      ]
     },
     "metadata": {},
     "output_type": "display_data"
    }
   ],
   "source": [
    "# Создание группировок по оператору продолжительности вызова и количества звонков\n",
    "mean_duration_by_operator = df_copy.groupby('operator_id')['call_duration'].mean()\n",
    "mean_calls_by_operator = df_copy.groupby('operator_id')['calls_count'].mean()\n",
    "\n",
    "# Создание группировок и расчет отношения\n",
    "df_ratio = pd.DataFrame({'operator_id': mean_duration_by_operator.index, 'ratio': mean_duration_by_operator / mean_calls_by_operator})\n",
    "df_ratio.reset_index(drop=True, inplace=True)\n",
    "df_ratio = df_ratio.sort_values('ratio', ascending=False)\n",
    "\n",
    "# Построение графика\n",
    "plt.figure(figsize=(20, 16))\n",
    "plt.bar(range(len(df_ratio)), df_ratio['ratio'])\n",
    "plt.xlabel('Количество операторов с одинаковым значением')\n",
    "plt.ylabel('Отношение длительности звонков к количеству звонков')\n",
    "plt.title('Отношение длительности звонков к количеству звонков по операторам (без выбросов)')\n",
    "\n",
    "# Задаем значения на оси X\n",
    "unique_values = df_ratio['ratio'].unique()\n",
    "xtick_labels = [len(df_ratio[df_ratio['ratio'] == val]) for val in unique_values]\n",
    "plt.xticks(range(len(unique_values)), xtick_labels)\n",
    "\n",
    "plt.ylim(0, 1000)  # Ограничение значений по оси Y до 900\n",
    "plt.show()\n"
   ]
  },
  {
   "cell_type": "markdown",
   "metadata": {},
   "source": [
    "Тут предполагаю что должен быть диапазон не короткий и не длинный разговор. Тут нужна будет обратная связь от руководителей КЦ для коррекции критерия ,но в тестовом варианте от 58 секунуд до 5 минут(300секунд) "
   ]
  },
  {
   "cell_type": "code",
   "execution_count": 37,
   "metadata": {},
   "outputs": [
    {
     "data": {
      "image/png": "[encoded data removed]",
      "text/plain": [
       "<Figure size 2000x1600 with 1 Axes>"
      ]
     },
     "metadata": {},
     "output_type": "display_data"
    }
   ],
   "source": [
    "plt.figure(figsize=(20, 16))\n",
    "plt.bar(range(len(df_ratio)), df_ratio['ratio'])\n",
    "plt.xlabel('Количество операторов')\n",
    "plt.ylabel('Отношение длительности звонков к количеству звонков')\n",
    "plt.title('Отношение длительности звонков к количеству звонков по операторам (без выбросов)')\n",
    "plt.xticks(range(len(df_ratio)), range(1, len(df_ratio) + 1))\n",
    "plt.ylim(0, 1000)\n",
    "\n",
    "# Закрашиваем диапазон от 58 до 91 по оси Y\n",
    "plt.axhspan(58, 300, facecolor='red', alpha=0.3)\n",
    "\n",
    "plt.show()\n",
    "\n"
   ]
  },
  {
   "cell_type": "code",
   "execution_count": 38,
   "metadata": {},
   "outputs": [
    {
     "name": "stdout",
     "output_type": "stream",
     "text": [
      "Отношение операторов, удовлетворяющих условию, к общему числу операторов: 48.35 %\n"
     ]
    }
   ],
   "source": [
    "# Фильтрация данных по условию df_ratio['ratio'] 58-91\n",
    "\n",
    "df_filtered_duration_ratio = df_ratio[(df_ratio['ratio'] >= 58) & (df_ratio['ratio'] <= 300)]\n",
    "\n",
    "# Вычисление отношения в процентах\n",
    "ratio_duration = round((len(df_filtered_duration_ratio) / 1092) * 100, 2)\n",
    "\n",
    "# Вывод отношения\n",
    "print(\"Отношение операторов, удовлетворяющих условию, к общему числу операторов:\", ratio_duration, \"%\")\n",
    "\n"
   ]
  },
  {
   "cell_type": "markdown",
   "metadata": {},
   "source": [
    "3 критерий. Время разговора входящих, не пропущенных должно быть от 58-300секунды"
   ]
  },
  {
   "cell_type": "markdown",
   "metadata": {},
   "source": [
    "####  Критерий КОЛИЧЕСТВО ИСХОДЯЩИХ"
   ]
  },
  {
   "cell_type": "markdown",
   "metadata": {},
   "source": [
    "4 Критерий. Количество исходящих вызовов: Если колл-центр специализируется на обзвонах, то количество исходящих вызовов может быть показателем эффективности оператора. Можно проверить, сколько исходящих вызовов совершил каждый оператор и сравнить их количество."
   ]
  },
  {
   "cell_type": "code",
   "execution_count": 39,
   "metadata": {},
   "outputs": [
    {
     "data": {
      "image/png": "[encoded data removed]",
      "text/plain": [
       "<Figure size 1200x600 with 1 Axes>"
      ]
     },
     "metadata": {},
     "output_type": "display_data"
    }
   ],
   "source": [
    "mean_calls_count = df[(df['direction'] == 'out') & (df['internal'] == 0)].groupby('operator_id')['calls_count'].mean()\n",
    "mean_calls_count_sorted = mean_calls_count.sort_values(ascending=False)\n",
    "\n",
    "mean_calls_count_sorted.plot(kind='bar', figsize=(12, 6))\n",
    "plt.xlabel('Operator ID')\n",
    "plt.ylabel('Ср. кол-во звонков ')\n",
    "plt.title('Ср. кол-во звонков в день на 1 оператора')\n",
    "plt.show()"
   ]
  },
  {
   "cell_type": "code",
   "execution_count": 40,
   "metadata": {},
   "outputs": [
    {
     "data": {
      "image/png": "[encoded data removed]",
      "text/plain": [
       "<Figure size 2000x1600 with 1 Axes>"
      ]
     },
     "metadata": {},
     "output_type": "display_data"
    }
   ],
   "source": [
    "plt.figure(figsize=(20, 16))\n",
    "plt.hist(mean_calls_count_sorted, bins=30, color='skyblue')\n",
    "plt.xlabel('Ср. кол-во звонков')\n",
    "plt.ylabel('Частота')\n",
    "plt.title('Распределение среднего количества звонков')\n",
    "plt.show()"
   ]
  },
  {
   "cell_type": "code",
   "execution_count": 41,
   "metadata": {},
   "outputs": [
    {
     "data": {
      "text/plain": [
       "count    833.000000\n",
       "mean      16.125936\n",
       "std       34.819520\n",
       "min        1.000000\n",
       "25%        2.000000\n",
       "50%        4.018182\n",
       "75%       15.934426\n",
       "max      426.152174\n",
       "Name: calls_count, dtype: float64"
      ]
     },
     "execution_count": 41,
     "metadata": {},
     "output_type": "execute_result"
    }
   ],
   "source": [
    "mean_calls_count_sorted.describe()"
   ]
  },
  {
   "cell_type": "markdown",
   "metadata": {},
   "source": [
    "Максималньое значение 426 звонков. Это возможно выброс"
   ]
  },
  {
   "cell_type": "code",
   "execution_count": 42,
   "metadata": {},
   "outputs": [
    {
     "data": {
      "text/plain": [
       "count    791.000000\n",
       "mean      10.734089\n",
       "std       14.723238\n",
       "min        1.000000\n",
       "25%        1.888889\n",
       "50%        3.647059\n",
       "75%       13.050000\n",
       "max       66.720000\n",
       "Name: calls_count, dtype: float64"
      ]
     },
     "execution_count": 42,
     "metadata": {},
     "output_type": "execute_result"
    }
   ],
   "source": [
    "mean_calls_count_filtered = mean_calls_count[mean_calls_count <= mean_calls_count.quantile(0.95)]\n",
    "mean_calls_count_filtered.describe()"
   ]
  },
  {
   "cell_type": "markdown",
   "metadata": {},
   "source": [
    "Выставим критерий в значение которое операторы в 75% не достигают ,это значение 13 звонков в день."
   ]
  },
  {
   "cell_type": "code",
   "execution_count": 43,
   "metadata": {},
   "outputs": [
    {
     "data": {
      "image/png": "[encoded data removed]",
      "text/plain": [
       "<Figure size 2000x1600 with 1 Axes>"
      ]
     },
     "metadata": {},
     "output_type": "display_data"
    }
   ],
   "source": [
    "mean_calls_count_filtered = mean_calls_count_filtered.sort_values(ascending=False)\n",
    "plt.figure(figsize=(20, 16))\n",
    "plt.bar(range(len(mean_calls_count_filtered)), mean_calls_count_filtered)\n",
    "plt.axhline(y=13, color='red', linestyle='--')  # Горизонтальная линия на уровне 472\n",
    "plt.ylabel('Количество исходящих вызовов')\n",
    "plt.title('Количество исходящих вызовов по операторам')\n",
    "#plt.xticks(range(len(calls_count_by_operator_sorted)), calls_count_by_operator_sorted.values, rotation=45)\n",
    "plt.xticks(range(0, len(mean_calls_count_filtered), 50))\n",
    "plt.show()"
   ]
  },
  {
   "cell_type": "markdown",
   "metadata": {},
   "source": [
    "### Итоговые критерии"
   ]
  },
  {
   "cell_type": "markdown",
   "metadata": {},
   "source": [
    "Итоговый анализ критериев. \n",
    "\n",
    "1 % пропущеных ко всем принятым вызовам должен быть не менее 9.6 %\n",
    "\n",
    "2 Время ожидания входящих не более 17.5 сек\n",
    "\n",
    "3 Время разговора входящих, не пропущенных должно быть от 58-300 секунды\n",
    "\n",
    "4 Для КЦ специализирущихся на исходящих это критерий 13 звонка в день.\n",
    "\n",
    "Из этих параметров можно выстаивать систему KPI"
   ]
  },
  {
   "cell_type": "code",
   "execution_count": 44,
   "metadata": {},
   "outputs": [
    {
     "name": "stdout",
     "output_type": "stream",
     "text": [
      "Количество операторов, удовлетворяющих всем 3 критериям: 10\n"
     ]
    }
   ],
   "source": [
    "# Фильтрация данных по критериям\n",
    "filtered_operators = df_copy.loc[\n",
    "    (df_ratio['ratio'] >= 58) & (df_ratio['ratio'] <= 300) &\n",
    "    ((df_copy['total_call_duration'] - df_copy['call_duration']) < 17.5) &\n",
    "    ((df_missed_calls_ratio['total_missed_calls'] / df_missed_calls_ratio['total_calls']) < 9.6)\n",
    "]\n",
    "\n",
    "# Подсчет количества уникальных операторов\n",
    "num_operators = len(filtered_operators['operator_id'].unique())\n",
    "\n",
    "# Вывод результата\n",
    "print(\"Количество операторов, удовлетворяющих всем 3 критериям:\", num_operators)\n",
    "\n",
    "\n"
   ]
  },
  {
   "cell_type": "markdown",
   "metadata": {},
   "source": [
    "## Гипотезы"
   ]
  },
  {
   "cell_type": "markdown",
   "metadata": {},
   "source": [
    "Выдвинем 2 гипотезы:\n",
    "\n",
    "1 гипотеза - о различии количества принятых вызовов в будни и выходные. \n",
    "\n",
    "2 гипотеза - о различии длительности ожидания ответа в будни и в выходные"
   ]
  },
  {
   "cell_type": "markdown",
   "metadata": {},
   "source": [
    "Для анализа данной гипотезы можно применить следующие шаги:\n",
    "\n",
    "Подготовка данных:\n",
    "\n",
    "Создать новый столбец is_weekend, который будет указывать, является ли день выходным (например, значение True для субботы и воскресенья, и False для остальных дней).\n",
    "Сгруппировать данные по is_weekend и подсчитать общее количество принятых вызовов в будни и выходные.\n",
    "Проверка условий:\n",
    "\n",
    "Проверить, являются ли распределения количества принятых вызовов в будни и выходные нормальными (например, с помощью критерия Шапиро-Уилка).\n",
    "Если распределения являются нормальными, можно использовать t-тест для проверки различия средних значений количества принятых вызовов в будни и выходные.\n",
    "Если распределения не являются нормальными, можно использовать непараметрический тест, например, критерий Манна-Уитни.\n",
    "Анализ результатов:\n",
    "\n",
    "Интерпретировать полученные статистические показатели и p-значение.\n",
    "Если p-значение меньше выбранного уровня значимости (обычно 0.05), можно сделать вывод о статистически значимом различии количества принятых вызовов в будни и выходные.\n",
    "Если p-значение больше выбранного уровня значимости, можно сделать вывод о отсутствии статистически значимого различия."
   ]
  },
  {
   "cell_type": "markdown",
   "metadata": {},
   "source": [
    "1 гипотеза - о различии количества принятых вызовов в будни и выходные."
   ]
  },
  {
   "cell_type": "code",
   "execution_count": 45,
   "metadata": {},
   "outputs": [
    {
     "name": "stdout",
     "output_type": "stream",
     "text": [
      "Нет статистически значимого различия в количестве принятых вызовов в будни и выходные.\n"
     ]
    },
    {
     "name": "stderr",
     "output_type": "stream",
     "text": [
      "C:\\Users\\joyfr\\anaconda3\\lib\\site-packages\\scipy\\stats\\_morestats.py:1800: UserWarning:\n",
      "\n",
      "p-value may not be accurate for N > 5000.\n",
      "\n"
     ]
    }
   ],
   "source": [
    "\n",
    "# Создание столбца с информацией о выходных днях\n",
    "df_copy['is_weekend'] = df_copy['date'].dt.dayofweek.isin([5, 6])\n",
    "\n",
    "# Группировка данных и подсчет количества принятых вызовов в будни и выходные\n",
    "calls_count_by_weekend = df_copy.groupby('is_weekend')['calls_count'].sum()\n",
    "\n",
    "# Проверка нормальности распределений\n",
    "weekday_calls = df_copy[df_copy['is_weekend'] == False]['calls_count']\n",
    "weekend_calls = df_copy[df_copy['is_weekend'] == True]['calls_count']\n",
    "\n",
    "# Shapiro-Wilk test\n",
    "_, weekday_p_value = shapiro(weekday_calls)\n",
    "_, weekend_p_value = shapiro(weekend_calls)\n",
    "\n",
    "alpha = 0.05  # Уровень значимости\n",
    "\n",
    "if weekday_p_value > alpha and weekend_p_value > alpha:\n",
    "    # Используем t-тест для нормальных распределений\n",
    "    _, p_value = ttest_ind(weekday_calls, weekend_calls)\n",
    "else:\n",
    "    # Используем критерий Манна-Уитни для ненормальных распределений\n",
    "    _, p_value = mannwhitneyu(weekday_calls, weekend_calls)\n",
    "\n",
    "# Анализ результатов\n",
    "if p_value < alpha:\n",
    "    print(\"Существует статистически значимое различие в количестве принятых вызовов в будни и выходные.\")\n",
    "else:\n",
    "    print(\"Нет статистически значимого различия в количестве принятых вызовов в будни и выходные.\")\n"
   ]
  },
  {
   "cell_type": "markdown",
   "metadata": {},
   "source": [
    "2 гипотеза - о различии длительности ожидания ответа в будни и в выходные"
   ]
  },
  {
   "cell_type": "code",
   "execution_count": 46,
   "metadata": {},
   "outputs": [
    {
     "name": "stdout",
     "output_type": "stream",
     "text": [
      "Нет статистически значимого различия в длительности ожидания ответа между буднями и выходными.\n"
     ]
    }
   ],
   "source": [
    "import scipy.stats as stats\n",
    "\n",
    "# Создание столбца 'is_weekend', указывающего, является ли день выходным\n",
    "df_copy['is_weekend'] = df_copy['date'].dt.dayofweek.isin([5, 6])\n",
    "\n",
    "# Фильтрация данных для будних дней\n",
    "df_weekdays = df_copy[~df_copy['is_weekend']]\n",
    "# Фильтрация данных для выходных дней\n",
    "df_weekends = df_copy[df_copy['is_weekend']]\n",
    "\n",
    "# Расчет длительности ожидания ответа для будних и выходных дней\n",
    "wait_time_weekdays = df_weekdays['total_call_duration'] - df_weekdays['call_duration']\n",
    "wait_time_weekends = df_weekends['total_call_duration'] - df_weekends['call_duration']\n",
    "\n",
    "# Проверка нулевой гипотезы о равенстве средних значений длительности ожидания\n",
    "statistic, p_value = stats.ttest_ind(wait_time_weekdays, wait_time_weekends, equal_var=False)\n",
    "\n",
    "# Вывод результатов\n",
    "if p_value < 0.05:\n",
    "    print(\"Существует статистически значимое различие в длительности ожидания ответа между буднями и выходными.\")\n",
    "else:\n",
    "    print(\"Нет статистически значимого различия в длительности ожидания ответа между буднями и выходными.\")\n"
   ]
  },
  {
   "cell_type": "markdown",
   "metadata": {},
   "source": [
    "Построим визуально как распределяется время ожиданиям по дням недели"
   ]
  },
  {
   "cell_type": "code",
   "execution_count": 47,
   "metadata": {},
   "outputs": [
    {
     "data": {
      "image/png": "[encoded data removed]",
      "text/plain": [
       "<Figure size 1200x800 with 1 Axes>"
      ]
     },
     "metadata": {},
     "output_type": "display_data"
    }
   ],
   "source": [
    "import matplotlib.pyplot as plt\n",
    "\n",
    "# Группировка данных по дню недели и расчет среднего времени ожидания\n",
    "mean_wait_time_by_weekday = df_copy.groupby(df_copy['date'].dt.dayofweek)['total_call_duration'].mean()\n",
    "\n",
    "# Задание названий дней недели\n",
    "weekday_names = ['ПН', 'ВТ', 'СР', 'ЧТ', 'ПТ', 'СБ', 'ВСК']\n",
    "\n",
    "# Построение графика\n",
    "plt.figure(figsize=(12, 8))\n",
    "plt.plot(weekday_names, mean_wait_time_by_weekday)\n",
    "plt.xlabel('День недели')\n",
    "plt.ylabel('Среднее время ожидания ответа')\n",
    "plt.title('Распределение времени ожидания по дням недели')\n",
    "plt.grid(True)\n",
    "plt.show()\n"
   ]
  },
  {
   "cell_type": "markdown",
   "metadata": {},
   "source": [
    "мои рекомендации для КЦ проанализировать работу и эфективность работы операторов в будни, возможно не хватает штатной еденицы в раб день, если хотят изменить параметр время ожидание в будни в лучшую сторону. В пятницу скорее всего низкое значение обусловлено большим числом штата на линии"
   ]
  },
  {
   "cell_type": "markdown",
   "metadata": {},
   "source": [
    "# Выводы"
   ]
  },
  {
   "cell_type": "markdown",
   "metadata": {},
   "source": [
    "Определили 3 критерия эфективности операторов, по относительному количеству проущеных, дилтелньости ожидания входящих,и времени разговора, а так же для исходящих вызовов количество совершенных в день. Текущие критерии явлются теоретическими и что бы их подстаривать под реалии бизнеса необходимо получить больше вводных таких как  требуемая длителньость разговора. Но эти данные проанализированы на широкой выборке и представляют собой действителньо то к чему стоит стремиться. Эти данные позволят менеджерам приимать решения по улучшению своего сервиса. Наш сервис НУ ПОЗОНИ определенно показывает текущее положение дел и дает возможности сделать шаги бинесу в правильном направлении.\n",
    "\n",
    "На основании проведенного анализа данных можно сделать следующие выводы:\n",
    "\n",
    "Количество принятых вызовов в будни и выходные дни не имеет статистически значимого различия. Это означает, что с точки зрения количества принятых вызовов, рабочие дни и выходные дни могут быть схожими.\n",
    "\n",
    "Однако, длительность ожидания ответа на вызовы демонстрирует статистически значимое различие между будними и выходными днями. Это может указывать на различия в нагрузке или организации работы операторов в разные дни недели.\n",
    "\n",
    "Данные выводы могут помочь понять, как различные факторы, такие как день недели, могут влиять на работу операторов и качество обслуживания вызовов. Это может быть полезной информацией при принятии решений о планировании ресурсов и оптимизации работы контактного центра."
   ]
  },
  {
   "cell_type": "markdown",
   "metadata": {},
   "source": [
    "Презентация\n",
    "\n",
    "https://docs.google.com/presentation/d/1ARQoDMgx6Ij-d1XyJNglZAXcOssUoDQ379C-1jOrLks/edit?usp=sharing\n",
    "\n",
    "ссылка на дашборд \n",
    "\n",
    "https://public.tableau.com/app/profile/.37513921/viz/Finaltelecom/Dashboard1?publish=yes\n",
    "\n"
   ]
  },
  {
   "cell_type": "code",
   "execution_count": null,
   "metadata": {},
   "outputs": [],
   "source": []
  }
 ],
 "metadata": {
  "ExecuteTimeLog": [
   {
    "duration": 1536,
    "start_time": "2023-06-29T12:07:26.043Z"
   },
   {
    "duration": 6,
    "start_time": "2023-06-29T12:07:51.325Z"
   },
   {
    "duration": 4,
    "start_time": "2023-06-29T12:08:02.242Z"
   },
   {
    "duration": 131,
    "start_time": "2023-06-29T12:08:16.691Z"
   },
   {
    "duration": 75,
    "start_time": "2023-06-29T12:08:48.609Z"
   },
   {
    "duration": 4,
    "start_time": "2023-06-29T12:09:00.917Z"
   },
   {
    "duration": 6,
    "start_time": "2023-06-29T12:09:01.601Z"
   },
   {
    "duration": 5,
    "start_time": "2023-06-29T12:09:02.378Z"
   },
   {
    "duration": 82,
    "start_time": "2023-06-29T12:09:04.235Z"
   },
   {
    "duration": 69,
    "start_time": "2023-06-29T12:12:25.790Z"
   },
   {
    "duration": 91,
    "start_time": "2023-06-29T12:17:43.084Z"
   },
   {
    "duration": 2728,
    "start_time": "2023-06-29T12:23:20.618Z"
   },
   {
    "duration": 2862,
    "start_time": "2023-06-29T12:24:24.931Z"
   },
   {
    "duration": 232,
    "start_time": "2023-06-29T12:25:05.041Z"
   },
   {
    "duration": 115,
    "start_time": "2023-06-29T12:26:43.819Z"
   },
   {
    "duration": 134,
    "start_time": "2023-06-29T12:26:50.830Z"
   },
   {
    "duration": 84,
    "start_time": "2023-06-29T12:26:58.716Z"
   },
   {
    "duration": 161,
    "start_time": "2023-06-29T12:27:24.584Z"
   },
   {
    "duration": 160,
    "start_time": "2023-06-29T12:27:30.923Z"
   },
   {
    "duration": 16,
    "start_time": "2023-06-29T12:27:46.494Z"
   },
   {
    "duration": 244,
    "start_time": "2023-06-29T12:30:00.447Z"
   },
   {
    "duration": 17,
    "start_time": "2023-06-29T12:30:03.517Z"
   },
   {
    "duration": 105,
    "start_time": "2023-06-29T12:33:23.874Z"
   },
   {
    "duration": 36,
    "start_time": "2023-06-29T12:35:06.587Z"
   },
   {
    "duration": 15,
    "start_time": "2023-06-29T12:35:16.480Z"
   },
   {
    "duration": 12,
    "start_time": "2023-06-29T12:35:33.689Z"
   },
   {
    "duration": 13,
    "start_time": "2023-06-29T12:35:35.645Z"
   },
   {
    "duration": 17,
    "start_time": "2023-06-29T12:35:51.060Z"
   },
   {
    "duration": 21,
    "start_time": "2023-06-29T12:36:09.557Z"
   },
   {
    "duration": 8,
    "start_time": "2023-06-29T12:37:05.716Z"
   },
   {
    "duration": 23,
    "start_time": "2023-06-29T12:37:17.272Z"
   },
   {
    "duration": 73,
    "start_time": "2023-06-29T12:37:47.769Z"
   },
   {
    "duration": 6,
    "start_time": "2023-06-29T12:42:47.875Z"
   },
   {
    "duration": 32,
    "start_time": "2023-06-29T12:43:20.730Z"
   },
   {
    "duration": 13,
    "start_time": "2023-06-29T12:47:41.052Z"
   },
   {
    "duration": 2043,
    "start_time": "2023-06-29T12:48:11.976Z"
   },
   {
    "duration": 16,
    "start_time": "2023-06-29T12:48:30.446Z"
   },
   {
    "duration": 8,
    "start_time": "2023-06-29T12:49:08.752Z"
   },
   {
    "duration": 3,
    "start_time": "2023-06-29T12:50:39.204Z"
   },
   {
    "duration": 15,
    "start_time": "2023-06-29T12:52:01.405Z"
   },
   {
    "duration": 12,
    "start_time": "2023-06-29T12:52:14.751Z"
   },
   {
    "duration": 3228,
    "start_time": "2023-06-29T12:53:07.910Z"
   },
   {
    "duration": 3224,
    "start_time": "2023-06-29T12:53:22.106Z"
   },
   {
    "duration": 3373,
    "start_time": "2023-06-29T12:53:34.841Z"
   },
   {
    "duration": 7,
    "start_time": "2023-06-29T12:54:23.409Z"
   },
   {
    "duration": 3,
    "start_time": "2023-06-29T12:55:31.538Z"
   },
   {
    "duration": 11,
    "start_time": "2023-06-29T12:55:52.916Z"
   },
   {
    "duration": 10,
    "start_time": "2023-06-29T12:56:01.038Z"
   },
   {
    "duration": 6,
    "start_time": "2023-06-29T12:56:30.089Z"
   },
   {
    "duration": 18570,
    "start_time": "2023-06-29T13:00:44.967Z"
   },
   {
    "duration": 18226,
    "start_time": "2023-06-29T13:01:47.123Z"
   },
   {
    "duration": 20906,
    "start_time": "2023-06-29T13:03:30.028Z"
   },
   {
    "duration": 19815,
    "start_time": "2023-06-29T13:05:08.652Z"
   },
   {
    "duration": 17166,
    "start_time": "2023-06-29T13:06:33.128Z"
   },
   {
    "duration": 17344,
    "start_time": "2023-06-29T13:08:26.116Z"
   },
   {
    "duration": 17779,
    "start_time": "2023-06-29T13:11:31.332Z"
   },
   {
    "duration": 2255,
    "start_time": "2023-06-29T13:16:44.974Z"
   },
   {
    "duration": 2287,
    "start_time": "2023-06-29T13:18:53.617Z"
   },
   {
    "duration": 25178,
    "start_time": "2023-06-29T13:19:06.414Z"
   },
   {
    "duration": 17167,
    "start_time": "2023-06-29T13:22:10.543Z"
   },
   {
    "duration": 16843,
    "start_time": "2023-06-29T13:24:29.374Z"
   },
   {
    "duration": 17894,
    "start_time": "2023-06-29T13:26:14.521Z"
   },
   {
    "duration": 17099,
    "start_time": "2023-06-29T13:27:08.115Z"
   },
   {
    "duration": 3595,
    "start_time": "2023-06-29T13:29:20.708Z"
   },
   {
    "duration": 9,
    "start_time": "2023-06-29T13:29:59.014Z"
   },
   {
    "duration": 9,
    "start_time": "2023-06-29T13:30:09.821Z"
   },
   {
    "duration": 22075,
    "start_time": "2023-06-29T13:32:36.425Z"
   },
   {
    "duration": 1350,
    "start_time": "2023-06-29T15:52:44.300Z"
   },
   {
    "duration": 6,
    "start_time": "2023-06-29T15:52:45.653Z"
   },
   {
    "duration": 25,
    "start_time": "2023-06-29T15:52:45.666Z"
   },
   {
    "duration": 368,
    "start_time": "2023-06-29T15:52:45.693Z"
   },
   {
    "duration": 22,
    "start_time": "2023-06-29T15:52:46.064Z"
   },
   {
    "duration": 134,
    "start_time": "2023-06-29T15:52:46.088Z"
   },
   {
    "duration": 44,
    "start_time": "2023-06-29T15:52:46.225Z"
   },
   {
    "duration": 13,
    "start_time": "2023-06-29T15:52:46.271Z"
   },
   {
    "duration": 36,
    "start_time": "2023-06-29T15:52:46.287Z"
   },
   {
    "duration": 16,
    "start_time": "2023-06-29T15:52:46.327Z"
   },
   {
    "duration": 34,
    "start_time": "2023-06-29T15:52:46.345Z"
   },
   {
    "duration": 87,
    "start_time": "2023-06-29T15:52:46.382Z"
   },
   {
    "duration": 7,
    "start_time": "2023-06-29T15:52:46.472Z"
   },
   {
    "duration": 52,
    "start_time": "2023-06-29T15:52:46.483Z"
   },
   {
    "duration": 12,
    "start_time": "2023-06-29T15:52:46.538Z"
   },
   {
    "duration": 1947,
    "start_time": "2023-06-29T15:52:46.568Z"
   },
   {
    "duration": 7,
    "start_time": "2023-06-29T15:52:48.518Z"
   },
   {
    "duration": 61,
    "start_time": "2023-06-29T15:52:48.530Z"
   },
   {
    "duration": 15,
    "start_time": "2023-06-29T15:52:48.593Z"
   },
   {
    "duration": 3310,
    "start_time": "2023-06-29T15:52:48.611Z"
   },
   {
    "duration": 7,
    "start_time": "2023-06-29T15:52:51.923Z"
   },
   {
    "duration": 22,
    "start_time": "2023-06-29T15:52:51.933Z"
   },
   {
    "duration": 24,
    "start_time": "2023-06-29T15:52:51.958Z"
   },
   {
    "duration": 21,
    "start_time": "2023-06-29T15:52:51.984Z"
   },
   {
    "duration": 17702,
    "start_time": "2023-06-29T15:52:52.007Z"
   },
   {
    "duration": 3397,
    "start_time": "2023-06-29T15:53:09.712Z"
   },
   {
    "duration": 9,
    "start_time": "2023-06-29T15:53:13.112Z"
   },
   {
    "duration": 16955,
    "start_time": "2023-06-29T15:53:13.124Z"
   },
   {
    "duration": 20779,
    "start_time": "2023-06-29T15:53:37.128Z"
   },
   {
    "duration": 16,
    "start_time": "2023-06-29T15:54:39.884Z"
   },
   {
    "duration": 143,
    "start_time": "2023-06-29T15:56:43.143Z"
   },
   {
    "duration": 18011,
    "start_time": "2023-06-29T15:56:51.251Z"
   },
   {
    "duration": 206,
    "start_time": "2023-06-29T16:04:03.906Z"
   },
   {
    "duration": 306,
    "start_time": "2023-06-29T16:04:17.815Z"
   },
   {
    "duration": 866,
    "start_time": "2023-06-29T16:04:26.174Z"
   },
   {
    "duration": 796,
    "start_time": "2023-06-29T16:04:35.030Z"
   },
   {
    "duration": 191,
    "start_time": "2023-06-29T16:04:58.241Z"
   },
   {
    "duration": 197,
    "start_time": "2023-06-29T16:05:36.237Z"
   },
   {
    "duration": 132,
    "start_time": "2023-06-29T16:06:19.351Z"
   },
   {
    "duration": 11,
    "start_time": "2023-06-29T16:08:37.762Z"
   },
   {
    "duration": 146,
    "start_time": "2023-06-29T16:08:45.807Z"
   },
   {
    "duration": 11,
    "start_time": "2023-06-29T16:09:19.678Z"
   },
   {
    "duration": 329,
    "start_time": "2023-06-29T16:09:23.487Z"
   },
   {
    "duration": 15,
    "start_time": "2023-06-29T16:14:54.075Z"
   },
   {
    "duration": 852,
    "start_time": "2023-06-29T16:15:07.176Z"
   },
   {
    "duration": 142,
    "start_time": "2023-06-29T16:15:56.614Z"
   },
   {
    "duration": 8,
    "start_time": "2023-06-29T16:16:22.896Z"
   },
   {
    "duration": 109,
    "start_time": "2023-06-29T16:20:26.000Z"
   },
   {
    "duration": 138,
    "start_time": "2023-06-29T16:20:32.018Z"
   },
   {
    "duration": 138,
    "start_time": "2023-06-29T16:21:41.906Z"
   },
   {
    "duration": 134,
    "start_time": "2023-06-29T16:22:09.341Z"
   },
   {
    "duration": 20,
    "start_time": "2023-06-29T16:24:07.166Z"
   },
   {
    "duration": 248,
    "start_time": "2023-06-29T16:24:49.670Z"
   },
   {
    "duration": 128,
    "start_time": "2023-06-29T16:27:14.158Z"
   },
   {
    "duration": 8,
    "start_time": "2023-06-29T16:28:12.994Z"
   },
   {
    "duration": 17,
    "start_time": "2023-06-29T16:29:46.491Z"
   },
   {
    "duration": 9,
    "start_time": "2023-06-29T16:30:35.079Z"
   },
   {
    "duration": 17,
    "start_time": "2023-06-29T16:30:40.201Z"
   },
   {
    "duration": 17330,
    "start_time": "2023-06-29T16:32:39.026Z"
   },
   {
    "duration": 35,
    "start_time": "2023-06-29T16:33:53.246Z"
   },
   {
    "duration": 19,
    "start_time": "2023-06-29T16:35:23.819Z"
   },
   {
    "duration": 15930,
    "start_time": "2023-06-29T16:35:33.560Z"
   },
   {
    "duration": 4287,
    "start_time": "2023-06-29T16:36:20.148Z"
   },
   {
    "duration": 4049,
    "start_time": "2023-06-29T16:36:35.306Z"
   },
   {
    "duration": 509,
    "start_time": "2023-06-29T16:37:53.094Z"
   },
   {
    "duration": 15400,
    "start_time": "2023-06-29T16:40:20.286Z"
   },
   {
    "duration": 15497,
    "start_time": "2023-06-29T16:42:09.366Z"
   },
   {
    "duration": 9,
    "start_time": "2023-06-29T16:45:17.846Z"
   },
   {
    "duration": 12,
    "start_time": "2023-06-29T16:45:42.635Z"
   },
   {
    "duration": 17,
    "start_time": "2023-06-29T16:46:01.387Z"
   },
   {
    "duration": 14996,
    "start_time": "2023-06-29T16:46:22.586Z"
   },
   {
    "duration": 16138,
    "start_time": "2023-06-29T16:49:02.102Z"
   },
   {
    "duration": 15484,
    "start_time": "2023-06-29T16:49:23.298Z"
   },
   {
    "duration": 6,
    "start_time": "2023-06-29T16:50:33.875Z"
   },
   {
    "duration": 7,
    "start_time": "2023-06-29T16:50:35.965Z"
   },
   {
    "duration": 5,
    "start_time": "2023-06-29T16:50:36.837Z"
   },
   {
    "duration": 175,
    "start_time": "2023-06-29T16:50:38.466Z"
   },
   {
    "duration": 16,
    "start_time": "2023-06-29T16:50:39.178Z"
   },
   {
    "duration": 66,
    "start_time": "2023-06-29T16:50:40.680Z"
   },
   {
    "duration": 22,
    "start_time": "2023-06-29T16:50:42.476Z"
   },
   {
    "duration": 12,
    "start_time": "2023-06-29T16:50:43.394Z"
   },
   {
    "duration": 20,
    "start_time": "2023-06-29T16:51:16.030Z"
   },
   {
    "duration": 27,
    "start_time": "2023-06-29T16:51:34.028Z"
   },
   {
    "duration": 6,
    "start_time": "2023-06-29T16:51:41.328Z"
   },
   {
    "duration": 16,
    "start_time": "2023-06-29T16:51:47.025Z"
   },
   {
    "duration": 278,
    "start_time": "2023-06-29T16:51:49.049Z"
   },
   {
    "duration": 258,
    "start_time": "2023-06-29T16:53:29.809Z"
   },
   {
    "duration": 225,
    "start_time": "2023-06-29T16:54:05.930Z"
   },
   {
    "duration": 1367,
    "start_time": "2023-06-29T16:55:10.336Z"
   },
   {
    "duration": 175,
    "start_time": "2023-06-29T16:55:43.182Z"
   },
   {
    "duration": 270,
    "start_time": "2023-06-29T16:56:09.055Z"
   },
   {
    "duration": 17,
    "start_time": "2023-06-29T16:57:13.722Z"
   },
   {
    "duration": 17,
    "start_time": "2023-06-29T16:57:34.527Z"
   },
   {
    "duration": 174,
    "start_time": "2023-06-29T16:58:23.086Z"
   },
   {
    "duration": 288,
    "start_time": "2023-06-29T16:58:30.715Z"
   },
   {
    "duration": 18,
    "start_time": "2023-06-29T16:59:39.522Z"
   },
   {
    "duration": 198,
    "start_time": "2023-06-29T17:01:07.775Z"
   },
   {
    "duration": 887,
    "start_time": "2023-06-29T17:01:26.989Z"
   },
   {
    "duration": 6,
    "start_time": "2023-06-29T17:05:45.247Z"
   },
   {
    "duration": 1287,
    "start_time": "2023-06-29T17:06:11.976Z"
   },
   {
    "duration": 150,
    "start_time": "2023-06-29T17:08:15.973Z"
   },
   {
    "duration": 299,
    "start_time": "2023-06-29T17:08:33.126Z"
   },
   {
    "duration": 274,
    "start_time": "2023-06-29T17:08:46.930Z"
   },
   {
    "duration": 161,
    "start_time": "2023-06-29T17:08:55.678Z"
   },
   {
    "duration": 23,
    "start_time": "2023-06-29T17:10:17.930Z"
   },
   {
    "duration": 10,
    "start_time": "2023-06-29T17:10:26.967Z"
   },
   {
    "duration": 1823,
    "start_time": "2023-06-29T17:10:31.806Z"
   },
   {
    "duration": 1986,
    "start_time": "2023-06-29T17:10:43.258Z"
   },
   {
    "duration": 6,
    "start_time": "2023-06-29T17:10:56.023Z"
   },
   {
    "duration": 5,
    "start_time": "2023-06-29T17:11:37.880Z"
   },
   {
    "duration": 18,
    "start_time": "2023-06-29T17:12:27.259Z"
   },
   {
    "duration": 11,
    "start_time": "2023-06-29T17:12:30.824Z"
   },
   {
    "duration": 190,
    "start_time": "2023-06-29T17:13:05.105Z"
   },
   {
    "duration": 182,
    "start_time": "2023-06-29T17:13:59.530Z"
   },
   {
    "duration": 161,
    "start_time": "2023-06-29T17:14:11.896Z"
   },
   {
    "duration": 10,
    "start_time": "2023-06-29T17:14:59.200Z"
   },
   {
    "duration": 3304,
    "start_time": "2023-06-29T17:15:08.609Z"
   },
   {
    "duration": 265,
    "start_time": "2023-06-29T17:15:38.457Z"
   },
   {
    "duration": 15,
    "start_time": "2023-06-29T17:16:09.819Z"
   },
   {
    "duration": 11,
    "start_time": "2023-06-29T17:16:14.573Z"
   },
   {
    "duration": 176,
    "start_time": "2023-06-29T17:16:37.875Z"
   },
   {
    "duration": 10,
    "start_time": "2023-06-29T17:16:51.714Z"
   },
   {
    "duration": 3295,
    "start_time": "2023-06-29T17:16:54.821Z"
   },
   {
    "duration": 11,
    "start_time": "2023-06-29T17:17:35.048Z"
   },
   {
    "duration": 3029,
    "start_time": "2023-06-29T17:18:03.364Z"
   },
   {
    "duration": 8,
    "start_time": "2023-06-29T17:19:30.581Z"
   },
   {
    "duration": 6,
    "start_time": "2023-06-29T17:20:16.151Z"
   },
   {
    "duration": 15,
    "start_time": "2023-06-29T17:20:43.228Z"
   },
   {
    "duration": 11,
    "start_time": "2023-06-29T17:20:44.292Z"
   },
   {
    "duration": 357,
    "start_time": "2023-06-29T17:20:47.494Z"
   },
   {
    "duration": 8,
    "start_time": "2023-06-29T17:20:50.662Z"
   },
   {
    "duration": 3169,
    "start_time": "2023-06-29T17:20:57.854Z"
   },
   {
    "duration": 7,
    "start_time": "2023-06-29T17:21:04.442Z"
   },
   {
    "duration": 7,
    "start_time": "2023-06-29T17:21:21.484Z"
   },
   {
    "duration": 8,
    "start_time": "2023-06-29T17:21:36.901Z"
   },
   {
    "duration": 8,
    "start_time": "2023-06-29T17:30:56.132Z"
   },
   {
    "duration": 10,
    "start_time": "2023-06-29T17:31:02.256Z"
   },
   {
    "duration": 7,
    "start_time": "2023-06-29T17:32:10.648Z"
   },
   {
    "duration": 11,
    "start_time": "2023-06-29T17:33:52.490Z"
   },
   {
    "duration": 11,
    "start_time": "2023-06-29T17:34:01.495Z"
   },
   {
    "duration": 18,
    "start_time": "2023-06-29T17:35:47.791Z"
   },
   {
    "duration": 15,
    "start_time": "2023-06-29T17:37:46.077Z"
   },
   {
    "duration": 21,
    "start_time": "2023-06-29T17:37:49.594Z"
   },
   {
    "duration": 10,
    "start_time": "2023-06-29T17:37:59.537Z"
   },
   {
    "duration": 164,
    "start_time": "2023-06-29T17:38:15.327Z"
   },
   {
    "duration": 9,
    "start_time": "2023-06-29T17:38:23.267Z"
   },
   {
    "duration": 3275,
    "start_time": "2023-06-29T17:38:40.156Z"
   },
   {
    "duration": 11,
    "start_time": "2023-06-29T17:38:43.433Z"
   },
   {
    "duration": 10,
    "start_time": "2023-06-29T17:38:49.150Z"
   },
   {
    "duration": 10,
    "start_time": "2023-06-29T17:38:53.854Z"
   },
   {
    "duration": 4,
    "start_time": "2023-06-29T17:39:52.529Z"
   },
   {
    "duration": 5,
    "start_time": "2023-06-29T17:40:11.025Z"
   },
   {
    "duration": 5,
    "start_time": "2023-06-29T17:40:48.276Z"
   },
   {
    "duration": 4,
    "start_time": "2023-06-29T17:40:57.392Z"
   },
   {
    "duration": 151,
    "start_time": "2023-06-29T17:41:28.505Z"
   },
   {
    "duration": 445,
    "start_time": "2023-06-29T17:41:36.850Z"
   },
   {
    "duration": 1505,
    "start_time": "2023-06-29T17:41:40.353Z"
   },
   {
    "duration": 781,
    "start_time": "2023-06-29T17:41:47.146Z"
   },
   {
    "duration": 217,
    "start_time": "2023-06-29T17:41:55.471Z"
   },
   {
    "duration": 9,
    "start_time": "2023-06-29T17:42:54.744Z"
   },
   {
    "duration": 14190,
    "start_time": "2023-06-29T17:44:11.024Z"
   },
   {
    "duration": 14279,
    "start_time": "2023-06-29T17:44:35.201Z"
   },
   {
    "duration": 14361,
    "start_time": "2023-06-29T17:45:03.574Z"
   },
   {
    "duration": 17,
    "start_time": "2023-06-29T17:45:42.153Z"
   },
   {
    "duration": 10,
    "start_time": "2023-06-29T17:45:58.657Z"
   },
   {
    "duration": 6,
    "start_time": "2023-06-29T17:50:47.883Z"
   },
   {
    "duration": 15464,
    "start_time": "2023-06-29T17:52:33.489Z"
   },
   {
    "duration": 14813,
    "start_time": "2023-06-29T17:53:48.075Z"
   },
   {
    "duration": 14727,
    "start_time": "2023-06-29T17:54:13.515Z"
   },
   {
    "duration": 14835,
    "start_time": "2023-06-29T17:54:49.558Z"
   },
   {
    "duration": 50,
    "start_time": "2023-06-30T04:14:59.179Z"
   },
   {
    "duration": 1286,
    "start_time": "2023-06-30T04:15:26.206Z"
   },
   {
    "duration": 6,
    "start_time": "2023-06-30T04:15:27.494Z"
   },
   {
    "duration": 24,
    "start_time": "2023-06-30T04:15:27.501Z"
   },
   {
    "duration": 223,
    "start_time": "2023-06-30T04:15:27.528Z"
   },
   {
    "duration": 18,
    "start_time": "2023-06-30T04:15:27.753Z"
   },
   {
    "duration": 77,
    "start_time": "2023-06-30T04:15:27.772Z"
   },
   {
    "duration": 20,
    "start_time": "2023-06-30T04:15:27.850Z"
   },
   {
    "duration": 28,
    "start_time": "2023-06-30T04:15:27.871Z"
   },
   {
    "duration": 18,
    "start_time": "2023-06-30T04:15:27.901Z"
   },
   {
    "duration": 7,
    "start_time": "2023-06-30T04:15:27.921Z"
   },
   {
    "duration": 13,
    "start_time": "2023-06-30T04:15:27.929Z"
   },
   {
    "duration": 60,
    "start_time": "2023-06-30T04:15:27.943Z"
   },
   {
    "duration": 172,
    "start_time": "2023-06-30T04:15:28.005Z"
   },
   {
    "duration": 4,
    "start_time": "2023-06-30T04:15:28.179Z"
   },
   {
    "duration": 18,
    "start_time": "2023-06-30T04:15:28.199Z"
   },
   {
    "duration": 7,
    "start_time": "2023-06-30T04:15:28.219Z"
   },
   {
    "duration": 1483,
    "start_time": "2023-06-30T04:15:28.228Z"
   },
   {
    "duration": 5,
    "start_time": "2023-06-30T04:15:29.713Z"
   },
   {
    "duration": 108,
    "start_time": "2023-06-30T04:15:29.719Z"
   },
   {
    "duration": 0,
    "start_time": "2023-06-30T04:15:29.829Z"
   },
   {
    "duration": 0,
    "start_time": "2023-06-30T04:15:29.830Z"
   },
   {
    "duration": 0,
    "start_time": "2023-06-30T04:15:29.831Z"
   },
   {
    "duration": 0,
    "start_time": "2023-06-30T04:15:29.832Z"
   },
   {
    "duration": 0,
    "start_time": "2023-06-30T04:15:29.833Z"
   },
   {
    "duration": 0,
    "start_time": "2023-06-30T04:15:29.834Z"
   },
   {
    "duration": 0,
    "start_time": "2023-06-30T04:15:29.835Z"
   },
   {
    "duration": 1,
    "start_time": "2023-06-30T04:15:29.836Z"
   },
   {
    "duration": 0,
    "start_time": "2023-06-30T04:15:29.837Z"
   },
   {
    "duration": 0,
    "start_time": "2023-06-30T04:15:29.838Z"
   },
   {
    "duration": 0,
    "start_time": "2023-06-30T04:15:29.839Z"
   },
   {
    "duration": 0,
    "start_time": "2023-06-30T04:15:29.841Z"
   },
   {
    "duration": 0,
    "start_time": "2023-06-30T04:15:29.842Z"
   },
   {
    "duration": 11,
    "start_time": "2023-06-30T04:16:55.525Z"
   },
   {
    "duration": 7,
    "start_time": "2023-06-30T04:17:04.242Z"
   },
   {
    "duration": 120,
    "start_time": "2023-06-30T04:17:10.234Z"
   },
   {
    "duration": 7,
    "start_time": "2023-06-30T04:17:12.327Z"
   },
   {
    "duration": 2247,
    "start_time": "2023-06-30T04:17:47.237Z"
   },
   {
    "duration": 2286,
    "start_time": "2023-06-30T04:18:10.242Z"
   },
   {
    "duration": 2244,
    "start_time": "2023-06-30T04:18:19.422Z"
   },
   {
    "duration": 8,
    "start_time": "2023-06-30T04:18:32.301Z"
   },
   {
    "duration": 4,
    "start_time": "2023-06-30T04:18:47.978Z"
   },
   {
    "duration": 5,
    "start_time": "2023-06-30T04:19:12.001Z"
   },
   {
    "duration": 262,
    "start_time": "2023-06-30T04:19:41.426Z"
   },
   {
    "duration": 10,
    "start_time": "2023-06-30T04:19:47.125Z"
   },
   {
    "duration": 10138,
    "start_time": "2023-06-30T04:19:48.891Z"
   },
   {
    "duration": 9,
    "start_time": "2023-06-30T04:19:59.032Z"
   },
   {
    "duration": 5,
    "start_time": "2023-06-30T04:21:52.684Z"
   },
   {
    "duration": 10629,
    "start_time": "2023-06-30T04:22:03.556Z"
   },
   {
    "duration": 10159,
    "start_time": "2023-06-30T04:22:33.226Z"
   },
   {
    "duration": 77,
    "start_time": "2023-06-30T04:26:48.521Z"
   },
   {
    "duration": 48,
    "start_time": "2023-06-30T04:28:02.411Z"
   },
   {
    "duration": 1456,
    "start_time": "2023-06-30T04:34:34.072Z"
   },
   {
    "duration": 44,
    "start_time": "2023-06-30T04:35:03.863Z"
   },
   {
    "duration": 1898,
    "start_time": "2023-06-30T04:40:22.787Z"
   },
   {
    "duration": 1360,
    "start_time": "2023-06-30T04:41:35.239Z"
   },
   {
    "duration": 2821,
    "start_time": "2023-06-30T04:42:02.121Z"
   },
   {
    "duration": 7,
    "start_time": "2023-06-30T04:44:36.678Z"
   },
   {
    "duration": 78,
    "start_time": "2023-06-30T04:49:22.259Z"
   },
   {
    "duration": 7,
    "start_time": "2023-06-30T04:54:01.003Z"
   },
   {
    "duration": 6,
    "start_time": "2023-06-30T04:54:16.656Z"
   },
   {
    "duration": 7,
    "start_time": "2023-06-30T04:54:23.858Z"
   },
   {
    "duration": 5,
    "start_time": "2023-06-30T04:54:35.958Z"
   },
   {
    "duration": 12,
    "start_time": "2023-06-30T04:56:34.353Z"
   },
   {
    "duration": 18,
    "start_time": "2023-06-30T04:56:38.390Z"
   },
   {
    "duration": 252,
    "start_time": "2023-06-30T06:14:33.665Z"
   },
   {
    "duration": 10868,
    "start_time": "2023-06-30T06:14:41.788Z"
   },
   {
    "duration": 10899,
    "start_time": "2023-06-30T06:14:52.658Z"
   },
   {
    "duration": 11167,
    "start_time": "2023-06-30T06:15:05.493Z"
   },
   {
    "duration": 236,
    "start_time": "2023-06-30T06:15:55.754Z"
   },
   {
    "duration": 1539,
    "start_time": "2023-06-30T06:16:04.437Z"
   },
   {
    "duration": 225,
    "start_time": "2023-06-30T06:16:11.622Z"
   },
   {
    "duration": 2402,
    "start_time": "2023-06-30T06:16:16.903Z"
   },
   {
    "duration": 51,
    "start_time": "2023-06-30T15:47:27.752Z"
   },
   {
    "duration": 1746,
    "start_time": "2023-06-30T15:47:33.830Z"
   },
   {
    "duration": 6,
    "start_time": "2023-06-30T15:47:35.578Z"
   },
   {
    "duration": 69,
    "start_time": "2023-06-30T15:47:35.585Z"
   },
   {
    "duration": 217,
    "start_time": "2023-06-30T15:47:35.656Z"
   },
   {
    "duration": 21,
    "start_time": "2023-06-30T15:47:35.876Z"
   },
   {
    "duration": 178,
    "start_time": "2023-06-30T15:47:35.899Z"
   },
   {
    "duration": 75,
    "start_time": "2023-06-30T15:47:36.079Z"
   },
   {
    "duration": 41,
    "start_time": "2023-06-30T15:47:36.156Z"
   },
   {
    "duration": 71,
    "start_time": "2023-06-30T15:47:36.200Z"
   },
   {
    "duration": 7,
    "start_time": "2023-06-30T15:47:36.273Z"
   },
   {
    "duration": 78,
    "start_time": "2023-06-30T15:47:36.281Z"
   },
   {
    "duration": 103,
    "start_time": "2023-06-30T15:47:36.364Z"
   },
   {
    "duration": 306,
    "start_time": "2023-06-30T15:47:36.468Z"
   },
   {
    "duration": 5,
    "start_time": "2023-06-30T15:47:36.778Z"
   },
   {
    "duration": 39,
    "start_time": "2023-06-30T15:47:36.784Z"
   },
   {
    "duration": 28,
    "start_time": "2023-06-30T15:47:36.825Z"
   },
   {
    "duration": 1857,
    "start_time": "2023-06-30T15:47:36.855Z"
   },
   {
    "duration": 5,
    "start_time": "2023-06-30T15:47:38.714Z"
   },
   {
    "duration": 25,
    "start_time": "2023-06-30T15:47:38.721Z"
   },
   {
    "duration": 20,
    "start_time": "2023-06-30T15:47:38.748Z"
   },
   {
    "duration": 11,
    "start_time": "2023-06-30T15:47:38.770Z"
   },
   {
    "duration": 271,
    "start_time": "2023-06-30T15:47:38.783Z"
   },
   {
    "duration": 9,
    "start_time": "2023-06-30T15:47:39.056Z"
   },
   {
    "duration": 2887,
    "start_time": "2023-06-30T15:47:39.068Z"
   },
   {
    "duration": 10,
    "start_time": "2023-06-30T15:47:41.957Z"
   },
   {
    "duration": 8,
    "start_time": "2023-06-30T15:47:41.969Z"
   },
   {
    "duration": 315,
    "start_time": "2023-06-30T15:47:41.979Z"
   },
   {
    "duration": 10,
    "start_time": "2023-06-30T15:47:42.296Z"
   },
   {
    "duration": 14172,
    "start_time": "2023-06-30T15:47:42.310Z"
   },
   {
    "duration": 8,
    "start_time": "2023-06-30T15:47:56.484Z"
   },
   {
    "duration": 10,
    "start_time": "2023-06-30T15:47:56.494Z"
   },
   {
    "duration": 13735,
    "start_time": "2023-06-30T15:47:56.505Z"
   },
   {
    "duration": 59,
    "start_time": "2023-06-30T15:48:10.242Z"
   },
   {
    "duration": 59,
    "start_time": "2023-06-30T15:48:10.303Z"
   },
   {
    "duration": 16,
    "start_time": "2023-06-30T15:48:10.364Z"
   },
   {
    "duration": 108,
    "start_time": "2023-07-01T09:04:09.703Z"
   },
   {
    "duration": 43,
    "start_time": "2023-07-01T09:04:30.793Z"
   },
   {
    "duration": 1267,
    "start_time": "2023-07-01T09:04:36.527Z"
   },
   {
    "duration": 5,
    "start_time": "2023-07-01T09:04:37.796Z"
   },
   {
    "duration": 10,
    "start_time": "2023-07-01T09:04:37.802Z"
   },
   {
    "duration": 301,
    "start_time": "2023-07-01T09:04:37.814Z"
   },
   {
    "duration": 19,
    "start_time": "2023-07-01T09:04:38.117Z"
   },
   {
    "duration": 80,
    "start_time": "2023-07-01T09:04:38.138Z"
   },
   {
    "duration": 19,
    "start_time": "2023-07-01T09:04:38.219Z"
   },
   {
    "duration": 9,
    "start_time": "2023-07-01T09:04:38.239Z"
   },
   {
    "duration": 26,
    "start_time": "2023-07-01T09:04:38.249Z"
   },
   {
    "duration": 11,
    "start_time": "2023-07-01T09:04:38.277Z"
   },
   {
    "duration": 23,
    "start_time": "2023-07-01T09:04:38.289Z"
   },
   {
    "duration": 43,
    "start_time": "2023-07-01T09:04:38.314Z"
   },
   {
    "duration": 250,
    "start_time": "2023-07-01T09:04:38.359Z"
   },
   {
    "duration": 4,
    "start_time": "2023-07-01T09:04:38.611Z"
   },
   {
    "duration": 23,
    "start_time": "2023-07-01T09:04:38.616Z"
   },
   {
    "duration": 6,
    "start_time": "2023-07-01T09:04:38.640Z"
   },
   {
    "duration": 1483,
    "start_time": "2023-07-01T09:04:38.647Z"
   },
   {
    "duration": 5,
    "start_time": "2023-07-01T09:04:40.131Z"
   },
   {
    "duration": 17,
    "start_time": "2023-07-01T09:04:40.137Z"
   },
   {
    "duration": 9,
    "start_time": "2023-07-01T09:04:40.155Z"
   },
   {
    "duration": 216,
    "start_time": "2023-07-01T09:04:40.165Z"
   },
   {
    "duration": 7,
    "start_time": "2023-07-01T09:04:40.382Z"
   },
   {
    "duration": 2249,
    "start_time": "2023-07-01T09:04:40.390Z"
   },
   {
    "duration": 9,
    "start_time": "2023-07-01T09:04:42.641Z"
   },
   {
    "duration": 7,
    "start_time": "2023-07-01T09:04:42.652Z"
   },
   {
    "duration": 250,
    "start_time": "2023-07-01T09:04:42.661Z"
   },
   {
    "duration": 6,
    "start_time": "2023-07-01T09:04:42.912Z"
   },
   {
    "duration": 10138,
    "start_time": "2023-07-01T09:04:42.921Z"
   },
   {
    "duration": 7,
    "start_time": "2023-07-01T09:04:53.061Z"
   },
   {
    "duration": 25,
    "start_time": "2023-07-01T09:04:53.069Z"
   },
   {
    "duration": 10328,
    "start_time": "2023-07-01T09:04:53.096Z"
   },
   {
    "duration": 41,
    "start_time": "2023-07-01T09:05:03.425Z"
   },
   {
    "duration": 48,
    "start_time": "2023-07-01T09:05:03.467Z"
   },
   {
    "duration": 11,
    "start_time": "2023-07-01T09:05:03.517Z"
   },
   {
    "duration": 12062,
    "start_time": "2023-07-01T09:19:52.320Z"
   },
   {
    "duration": 1522,
    "start_time": "2023-07-01T09:23:27.319Z"
   },
   {
    "duration": 1375,
    "start_time": "2023-07-01T09:24:38.405Z"
   },
   {
    "duration": 83,
    "start_time": "2023-07-01T09:25:50.864Z"
   },
   {
    "duration": 130,
    "start_time": "2023-07-01T09:30:03.419Z"
   },
   {
    "duration": 196,
    "start_time": "2023-07-01T09:30:17.958Z"
   },
   {
    "duration": 106,
    "start_time": "2023-07-01T09:30:39.310Z"
   },
   {
    "duration": 50,
    "start_time": "2023-07-01T09:31:37.571Z"
   },
   {
    "duration": 54,
    "start_time": "2023-07-01T09:32:31.562Z"
   },
   {
    "duration": 3003,
    "start_time": "2023-07-01T09:32:47.199Z"
   },
   {
    "duration": 3,
    "start_time": "2023-07-01T09:32:50.931Z"
   },
   {
    "duration": 58,
    "start_time": "2023-07-01T09:33:00.973Z"
   },
   {
    "duration": 2537,
    "start_time": "2023-07-01T09:34:14.625Z"
   },
   {
    "duration": 49,
    "start_time": "2023-07-01T09:35:12.412Z"
   },
   {
    "duration": 14891,
    "start_time": "2023-07-01T09:37:25.319Z"
   },
   {
    "duration": 4262,
    "start_time": "2023-07-01T09:40:25.829Z"
   },
   {
    "duration": 4184,
    "start_time": "2023-07-01T09:40:43.675Z"
   },
   {
    "duration": 2908,
    "start_time": "2023-07-01T09:45:57.211Z"
   },
   {
    "duration": 2677,
    "start_time": "2023-07-01T09:47:17.151Z"
   },
   {
    "duration": 2715,
    "start_time": "2023-07-01T09:47:28.195Z"
   },
   {
    "duration": 2648,
    "start_time": "2023-07-01T09:47:43.358Z"
   },
   {
    "duration": 9136,
    "start_time": "2023-07-01T09:57:33.307Z"
   },
   {
    "duration": 8,
    "start_time": "2023-07-01T10:00:56.262Z"
   },
   {
    "duration": 10691,
    "start_time": "2023-07-01T10:01:09.432Z"
   },
   {
    "duration": 40,
    "start_time": "2023-07-01T10:01:40.465Z"
   },
   {
    "duration": 41,
    "start_time": "2023-07-01T10:01:50.406Z"
   },
   {
    "duration": 1141,
    "start_time": "2023-07-01T10:06:02.669Z"
   },
   {
    "duration": 260,
    "start_time": "2023-07-01T10:07:03.410Z"
   },
   {
    "duration": 11,
    "start_time": "2023-07-01T10:07:41.422Z"
   },
   {
    "duration": 9,
    "start_time": "2023-07-01T10:07:48.732Z"
   },
   {
    "duration": 13,
    "start_time": "2023-07-01T10:08:15.284Z"
   },
   {
    "duration": 1469,
    "start_time": "2023-07-01T10:08:23.674Z"
   },
   {
    "duration": 19,
    "start_time": "2023-07-01T10:08:58.126Z"
   },
   {
    "duration": 9,
    "start_time": "2023-07-01T10:18:39.199Z"
   },
   {
    "duration": 1120,
    "start_time": "2023-07-01T10:20:40.846Z"
   },
   {
    "duration": 1318,
    "start_time": "2023-07-01T10:25:02.543Z"
   },
   {
    "duration": 1149,
    "start_time": "2023-07-01T10:25:07.392Z"
   },
   {
    "duration": 1235,
    "start_time": "2023-07-01T10:25:26.214Z"
   },
   {
    "duration": 88,
    "start_time": "2023-07-01T10:27:32.212Z"
   },
   {
    "duration": 188,
    "start_time": "2023-07-01T10:28:58.432Z"
   },
   {
    "duration": 147,
    "start_time": "2023-07-01T10:30:25.710Z"
   },
   {
    "duration": 140,
    "start_time": "2023-07-01T10:30:59.458Z"
   },
   {
    "duration": 2483,
    "start_time": "2023-07-01T10:33:59.605Z"
   },
   {
    "duration": 1380,
    "start_time": "2023-07-01T10:34:02.090Z"
   },
   {
    "duration": 5,
    "start_time": "2023-07-01T10:34:03.472Z"
   },
   {
    "duration": 56,
    "start_time": "2023-07-01T10:34:03.479Z"
   },
   {
    "duration": 177,
    "start_time": "2023-07-01T10:34:03.538Z"
   },
   {
    "duration": 26,
    "start_time": "2023-07-01T10:34:03.717Z"
   },
   {
    "duration": 74,
    "start_time": "2023-07-01T10:34:03.744Z"
   },
   {
    "duration": 20,
    "start_time": "2023-07-01T10:34:03.820Z"
   },
   {
    "duration": 10,
    "start_time": "2023-07-01T10:34:03.842Z"
   },
   {
    "duration": 19,
    "start_time": "2023-07-01T10:34:03.854Z"
   },
   {
    "duration": 33,
    "start_time": "2023-07-01T10:34:03.874Z"
   },
   {
    "duration": 23,
    "start_time": "2023-07-01T10:34:03.908Z"
   },
   {
    "duration": 38,
    "start_time": "2023-07-01T10:34:03.933Z"
   },
   {
    "duration": 311,
    "start_time": "2023-07-01T10:34:03.974Z"
   },
   {
    "duration": 5,
    "start_time": "2023-07-01T10:34:04.286Z"
   },
   {
    "duration": 35,
    "start_time": "2023-07-01T10:34:04.300Z"
   },
   {
    "duration": 10,
    "start_time": "2023-07-01T10:34:04.337Z"
   },
   {
    "duration": 1503,
    "start_time": "2023-07-01T10:34:04.349Z"
   },
   {
    "duration": 11978,
    "start_time": "2023-07-01T10:34:05.853Z"
   },
   {
    "duration": 6,
    "start_time": "2023-07-01T10:34:17.833Z"
   },
   {
    "duration": 30,
    "start_time": "2023-07-01T10:34:17.841Z"
   },
   {
    "duration": 13,
    "start_time": "2023-07-01T10:34:17.873Z"
   },
   {
    "duration": 370,
    "start_time": "2023-07-01T10:34:17.888Z"
   },
   {
    "duration": 12,
    "start_time": "2023-07-01T10:34:18.260Z"
   },
   {
    "duration": 2246,
    "start_time": "2023-07-01T10:34:18.274Z"
   },
   {
    "duration": 438,
    "start_time": "2023-07-01T10:34:20.521Z"
   },
   {
    "duration": 11,
    "start_time": "2023-07-01T10:34:20.960Z"
   },
   {
    "duration": 28,
    "start_time": "2023-07-01T10:34:20.973Z"
   },
   {
    "duration": 319,
    "start_time": "2023-07-01T10:34:21.003Z"
   },
   {
    "duration": 8,
    "start_time": "2023-07-01T10:34:21.323Z"
   },
   {
    "duration": 10837,
    "start_time": "2023-07-01T10:34:21.332Z"
   },
   {
    "duration": 8,
    "start_time": "2023-07-01T10:34:32.171Z"
   },
   {
    "duration": 10122,
    "start_time": "2023-07-01T10:34:32.180Z"
   },
   {
    "duration": 6,
    "start_time": "2023-07-01T10:34:42.304Z"
   },
   {
    "duration": 11046,
    "start_time": "2023-07-01T10:34:42.312Z"
   },
   {
    "duration": 275,
    "start_time": "2023-07-01T10:34:53.360Z"
   },
   {
    "duration": 16,
    "start_time": "2023-07-01T10:34:53.636Z"
   },
   {
    "duration": 8,
    "start_time": "2023-07-01T10:34:53.654Z"
   },
   {
    "duration": 1294,
    "start_time": "2023-07-01T10:34:53.664Z"
   },
   {
    "duration": 54,
    "start_time": "2023-07-01T10:34:54.961Z"
   },
   {
    "duration": 35,
    "start_time": "2023-07-01T10:34:55.019Z"
   },
   {
    "duration": 12,
    "start_time": "2023-07-01T10:34:55.056Z"
   },
   {
    "duration": 172,
    "start_time": "2023-07-01T10:34:55.070Z"
   },
   {
    "duration": 7,
    "start_time": "2023-07-01T10:36:00.145Z"
   },
   {
    "duration": 76,
    "start_time": "2023-07-01T10:36:21.526Z"
   },
   {
    "duration": 2006,
    "start_time": "2023-07-01T10:37:59.740Z"
   },
   {
    "duration": 1132,
    "start_time": "2023-07-01T10:38:01.749Z"
   },
   {
    "duration": 6,
    "start_time": "2023-07-01T10:38:02.882Z"
   },
   {
    "duration": 5,
    "start_time": "2023-07-01T10:38:02.899Z"
   },
   {
    "duration": 4,
    "start_time": "2023-07-01T10:38:02.906Z"
   },
   {
    "duration": 127,
    "start_time": "2023-07-01T10:38:02.912Z"
   },
   {
    "duration": 21,
    "start_time": "2023-07-01T10:38:03.040Z"
   },
   {
    "duration": 75,
    "start_time": "2023-07-01T10:38:03.062Z"
   },
   {
    "duration": 63,
    "start_time": "2023-07-01T10:38:03.139Z"
   },
   {
    "duration": 25,
    "start_time": "2023-07-01T10:38:03.204Z"
   },
   {
    "duration": 16,
    "start_time": "2023-07-01T10:38:03.231Z"
   },
   {
    "duration": 20,
    "start_time": "2023-07-01T10:38:03.249Z"
   },
   {
    "duration": 2,
    "start_time": "2023-07-01T10:38:03.271Z"
   },
   {
    "duration": 16,
    "start_time": "2023-07-01T10:38:03.301Z"
   },
   {
    "duration": 43,
    "start_time": "2023-07-01T10:38:03.319Z"
   },
   {
    "duration": 303,
    "start_time": "2023-07-01T10:38:03.364Z"
   },
   {
    "duration": 5,
    "start_time": "2023-07-01T10:38:03.668Z"
   },
   {
    "duration": 40,
    "start_time": "2023-07-01T10:38:03.675Z"
   },
   {
    "duration": 9,
    "start_time": "2023-07-01T10:38:03.717Z"
   },
   {
    "duration": 1517,
    "start_time": "2023-07-01T10:38:03.727Z"
   },
   {
    "duration": 11792,
    "start_time": "2023-07-01T10:38:05.246Z"
   },
   {
    "duration": 5,
    "start_time": "2023-07-01T10:38:17.039Z"
   },
   {
    "duration": 14,
    "start_time": "2023-07-01T10:38:17.046Z"
   },
   {
    "duration": 16,
    "start_time": "2023-07-01T10:38:17.061Z"
   },
   {
    "duration": 353,
    "start_time": "2023-07-01T10:38:17.078Z"
   },
   {
    "duration": 7,
    "start_time": "2023-07-01T10:38:17.433Z"
   },
   {
    "duration": 2302,
    "start_time": "2023-07-01T10:38:17.441Z"
   },
   {
    "duration": 439,
    "start_time": "2023-07-01T10:38:19.746Z"
   },
   {
    "duration": 11,
    "start_time": "2023-07-01T10:38:20.186Z"
   },
   {
    "duration": 6,
    "start_time": "2023-07-01T10:38:20.200Z"
   },
   {
    "duration": 312,
    "start_time": "2023-07-01T10:38:20.207Z"
   },
   {
    "duration": 7,
    "start_time": "2023-07-01T10:38:20.520Z"
   },
   {
    "duration": 10535,
    "start_time": "2023-07-01T10:38:20.529Z"
   },
   {
    "duration": 8,
    "start_time": "2023-07-01T10:38:31.065Z"
   },
   {
    "duration": 9338,
    "start_time": "2023-07-01T10:38:31.074Z"
   },
   {
    "duration": 5,
    "start_time": "2023-07-01T10:38:40.413Z"
   },
   {
    "duration": 10639,
    "start_time": "2023-07-01T10:38:40.420Z"
   },
   {
    "duration": 255,
    "start_time": "2023-07-01T10:38:51.060Z"
   },
   {
    "duration": 17,
    "start_time": "2023-07-01T10:38:51.317Z"
   },
   {
    "duration": 9,
    "start_time": "2023-07-01T10:38:51.336Z"
   },
   {
    "duration": 1246,
    "start_time": "2023-07-01T10:38:51.347Z"
   },
   {
    "duration": 48,
    "start_time": "2023-07-01T10:38:52.600Z"
   },
   {
    "duration": 51,
    "start_time": "2023-07-01T10:38:52.650Z"
   },
   {
    "duration": 14,
    "start_time": "2023-07-01T10:38:52.703Z"
   },
   {
    "duration": 166,
    "start_time": "2023-07-01T10:38:52.718Z"
   },
   {
    "duration": 155,
    "start_time": "2023-07-01T10:39:52.291Z"
   },
   {
    "duration": 165,
    "start_time": "2023-07-01T10:41:33.948Z"
   },
   {
    "duration": 154,
    "start_time": "2023-07-01T10:42:11.130Z"
   },
   {
    "duration": 154,
    "start_time": "2023-07-01T10:42:36.835Z"
   },
   {
    "duration": 126,
    "start_time": "2023-07-01T10:43:14.128Z"
   },
   {
    "duration": 136,
    "start_time": "2023-07-01T10:46:03.197Z"
   },
   {
    "duration": 4,
    "start_time": "2023-07-01T10:47:12.268Z"
   },
   {
    "duration": 112,
    "start_time": "2023-07-01T10:47:30.732Z"
   },
   {
    "duration": 3239,
    "start_time": "2023-07-01T10:48:19.639Z"
   },
   {
    "duration": 109,
    "start_time": "2023-07-01T10:49:35.293Z"
   },
   {
    "duration": 6,
    "start_time": "2023-07-01T10:50:15.659Z"
   },
   {
    "duration": 29,
    "start_time": "2023-07-01T10:51:27.539Z"
   },
   {
    "duration": 2014,
    "start_time": "2023-07-01T10:52:31.465Z"
   },
   {
    "duration": 1200,
    "start_time": "2023-07-01T10:52:33.481Z"
   },
   {
    "duration": 5,
    "start_time": "2023-07-01T10:52:34.683Z"
   },
   {
    "duration": 12,
    "start_time": "2023-07-01T10:52:34.690Z"
   },
   {
    "duration": 5,
    "start_time": "2023-07-01T10:52:34.703Z"
   },
   {
    "duration": 236,
    "start_time": "2023-07-01T10:52:34.710Z"
   },
   {
    "duration": 23,
    "start_time": "2023-07-01T10:52:34.949Z"
   },
   {
    "duration": 69,
    "start_time": "2023-07-01T10:52:34.974Z"
   },
   {
    "duration": 57,
    "start_time": "2023-07-01T10:52:35.045Z"
   },
   {
    "duration": 31,
    "start_time": "2023-07-01T10:52:35.104Z"
   },
   {
    "duration": 11,
    "start_time": "2023-07-01T10:52:35.137Z"
   },
   {
    "duration": 60,
    "start_time": "2023-07-01T10:52:35.150Z"
   },
   {
    "duration": 122,
    "start_time": "2023-07-01T10:52:35.212Z"
   },
   {
    "duration": 5,
    "start_time": "2023-07-01T10:52:35.335Z"
   },
   {
    "duration": 20,
    "start_time": "2023-07-01T10:52:35.342Z"
   },
   {
    "duration": 3,
    "start_time": "2023-07-01T10:52:35.363Z"
   },
   {
    "duration": 20,
    "start_time": "2023-07-01T10:52:35.367Z"
   },
   {
    "duration": 60,
    "start_time": "2023-07-01T10:52:35.389Z"
   },
   {
    "duration": 263,
    "start_time": "2023-07-01T10:52:35.451Z"
   },
   {
    "duration": 5,
    "start_time": "2023-07-01T10:52:35.715Z"
   },
   {
    "duration": 26,
    "start_time": "2023-07-01T10:52:35.722Z"
   },
   {
    "duration": 6,
    "start_time": "2023-07-01T10:52:35.750Z"
   },
   {
    "duration": 1472,
    "start_time": "2023-07-01T10:52:35.758Z"
   },
   {
    "duration": 12525,
    "start_time": "2023-07-01T10:52:37.232Z"
   },
   {
    "duration": 5,
    "start_time": "2023-07-01T10:52:49.759Z"
   },
   {
    "duration": 15,
    "start_time": "2023-07-01T10:52:49.766Z"
   },
   {
    "duration": 24,
    "start_time": "2023-07-01T10:52:49.783Z"
   },
   {
    "duration": 300,
    "start_time": "2023-07-01T10:52:49.813Z"
   },
   {
    "duration": 9,
    "start_time": "2023-07-01T10:52:50.115Z"
   },
   {
    "duration": 2336,
    "start_time": "2023-07-01T10:52:50.125Z"
   },
   {
    "duration": 491,
    "start_time": "2023-07-01T10:52:52.462Z"
   },
   {
    "duration": 13,
    "start_time": "2023-07-01T10:52:52.954Z"
   },
   {
    "duration": 6,
    "start_time": "2023-07-01T10:52:52.969Z"
   },
   {
    "duration": 307,
    "start_time": "2023-07-01T10:52:52.976Z"
   },
   {
    "duration": 14,
    "start_time": "2023-07-01T10:52:53.285Z"
   },
   {
    "duration": 10765,
    "start_time": "2023-07-01T10:52:53.301Z"
   },
   {
    "duration": 6,
    "start_time": "2023-07-01T10:53:04.068Z"
   },
   {
    "duration": 9641,
    "start_time": "2023-07-01T10:53:04.076Z"
   },
   {
    "duration": 6,
    "start_time": "2023-07-01T10:53:13.718Z"
   },
   {
    "duration": 10698,
    "start_time": "2023-07-01T10:53:13.725Z"
   },
   {
    "duration": 267,
    "start_time": "2023-07-01T10:53:24.425Z"
   },
   {
    "duration": 22,
    "start_time": "2023-07-01T10:53:24.693Z"
   },
   {
    "duration": 9,
    "start_time": "2023-07-01T10:53:24.717Z"
   },
   {
    "duration": 1278,
    "start_time": "2023-07-01T10:53:24.727Z"
   },
   {
    "duration": 45,
    "start_time": "2023-07-01T10:53:26.007Z"
   },
   {
    "duration": 57,
    "start_time": "2023-07-01T10:53:26.054Z"
   },
   {
    "duration": 14,
    "start_time": "2023-07-01T10:53:26.114Z"
   },
   {
    "duration": 216,
    "start_time": "2023-07-01T10:53:26.130Z"
   },
   {
    "duration": 2086,
    "start_time": "2023-07-01T11:02:49.656Z"
   },
   {
    "duration": 1112,
    "start_time": "2023-07-01T11:02:51.744Z"
   },
   {
    "duration": 5,
    "start_time": "2023-07-01T11:02:52.858Z"
   },
   {
    "duration": 7,
    "start_time": "2023-07-01T11:02:52.865Z"
   },
   {
    "duration": 6,
    "start_time": "2023-07-01T11:02:52.873Z"
   },
   {
    "duration": 146,
    "start_time": "2023-07-01T11:02:52.881Z"
   },
   {
    "duration": 17,
    "start_time": "2023-07-01T11:02:53.029Z"
   },
   {
    "duration": 111,
    "start_time": "2023-07-01T11:02:53.048Z"
   },
   {
    "duration": 58,
    "start_time": "2023-07-01T11:02:53.160Z"
   },
   {
    "duration": 20,
    "start_time": "2023-07-01T11:02:53.220Z"
   },
   {
    "duration": 9,
    "start_time": "2023-07-01T11:02:53.241Z"
   },
   {
    "duration": 16,
    "start_time": "2023-07-01T11:02:53.252Z"
   },
   {
    "duration": 148,
    "start_time": "2023-07-01T11:02:53.270Z"
   },
   {
    "duration": 4,
    "start_time": "2023-07-01T11:02:53.420Z"
   },
   {
    "duration": 12,
    "start_time": "2023-07-01T11:02:53.426Z"
   },
   {
    "duration": 3,
    "start_time": "2023-07-01T11:02:53.439Z"
   },
   {
    "duration": 28,
    "start_time": "2023-07-01T11:02:53.443Z"
   },
   {
    "duration": 74,
    "start_time": "2023-07-01T11:02:53.473Z"
   },
   {
    "duration": 250,
    "start_time": "2023-07-01T11:02:53.549Z"
   },
   {
    "duration": 5,
    "start_time": "2023-07-01T11:02:53.801Z"
   },
   {
    "duration": 58,
    "start_time": "2023-07-01T11:02:53.808Z"
   },
   {
    "duration": 44,
    "start_time": "2023-07-01T11:02:53.868Z"
   },
   {
    "duration": 1495,
    "start_time": "2023-07-01T11:02:53.914Z"
   },
   {
    "duration": 13162,
    "start_time": "2023-07-01T11:02:55.410Z"
   },
   {
    "duration": 5,
    "start_time": "2023-07-01T11:03:08.573Z"
   },
   {
    "duration": 24,
    "start_time": "2023-07-01T11:03:08.579Z"
   },
   {
    "duration": 17,
    "start_time": "2023-07-01T11:03:08.604Z"
   },
   {
    "duration": 217,
    "start_time": "2023-07-01T11:03:08.624Z"
   },
   {
    "duration": 8,
    "start_time": "2023-07-01T11:03:08.843Z"
   },
   {
    "duration": 2329,
    "start_time": "2023-07-01T11:03:08.853Z"
   },
   {
    "duration": 446,
    "start_time": "2023-07-01T11:03:11.183Z"
   },
   {
    "duration": 9,
    "start_time": "2023-07-01T11:03:11.630Z"
   },
   {
    "duration": 12,
    "start_time": "2023-07-01T11:03:11.640Z"
   },
   {
    "duration": 298,
    "start_time": "2023-07-01T11:03:11.653Z"
   },
   {
    "duration": 7,
    "start_time": "2023-07-01T11:03:11.952Z"
   },
   {
    "duration": 11082,
    "start_time": "2023-07-01T11:03:11.960Z"
   },
   {
    "duration": 8,
    "start_time": "2023-07-01T11:03:23.043Z"
   },
   {
    "duration": 10886,
    "start_time": "2023-07-01T11:03:23.053Z"
   },
   {
    "duration": 13756,
    "start_time": "2023-07-01T11:03:33.940Z"
   },
   {
    "duration": 5,
    "start_time": "2023-07-01T11:03:47.699Z"
   },
   {
    "duration": 2018,
    "start_time": "2023-07-01T11:05:23.462Z"
   },
   {
    "duration": 1957,
    "start_time": "2023-07-01T11:05:25.482Z"
   },
   {
    "duration": 5,
    "start_time": "2023-07-01T11:05:27.440Z"
   },
   {
    "duration": 7,
    "start_time": "2023-07-01T11:05:27.446Z"
   },
   {
    "duration": 4,
    "start_time": "2023-07-01T11:05:27.455Z"
   },
   {
    "duration": 140,
    "start_time": "2023-07-01T11:05:27.460Z"
   },
   {
    "duration": 15,
    "start_time": "2023-07-01T11:05:27.602Z"
   },
   {
    "duration": 58,
    "start_time": "2023-07-01T11:05:27.619Z"
   },
   {
    "duration": 54,
    "start_time": "2023-07-01T11:05:27.678Z"
   },
   {
    "duration": 19,
    "start_time": "2023-07-01T11:05:27.735Z"
   },
   {
    "duration": 10,
    "start_time": "2023-07-01T11:05:27.756Z"
   },
   {
    "duration": 43,
    "start_time": "2023-07-01T11:05:27.767Z"
   },
   {
    "duration": 119,
    "start_time": "2023-07-01T11:05:27.812Z"
   },
   {
    "duration": 4,
    "start_time": "2023-07-01T11:05:27.932Z"
   },
   {
    "duration": 16,
    "start_time": "2023-07-01T11:05:27.937Z"
   },
   {
    "duration": 3,
    "start_time": "2023-07-01T11:05:27.954Z"
   },
   {
    "duration": 23,
    "start_time": "2023-07-01T11:05:27.958Z"
   },
   {
    "duration": 45,
    "start_time": "2023-07-01T11:05:27.983Z"
   },
   {
    "duration": 253,
    "start_time": "2023-07-01T11:05:28.030Z"
   },
   {
    "duration": 5,
    "start_time": "2023-07-01T11:05:28.284Z"
   },
   {
    "duration": 20,
    "start_time": "2023-07-01T11:05:28.299Z"
   },
   {
    "duration": 13,
    "start_time": "2023-07-01T11:05:28.321Z"
   },
   {
    "duration": 1549,
    "start_time": "2023-07-01T11:05:28.335Z"
   },
   {
    "duration": 11646,
    "start_time": "2023-07-01T11:05:29.885Z"
   },
   {
    "duration": 5,
    "start_time": "2023-07-01T11:05:41.533Z"
   },
   {
    "duration": 22,
    "start_time": "2023-07-01T11:05:41.540Z"
   },
   {
    "duration": 9,
    "start_time": "2023-07-01T11:05:41.564Z"
   },
   {
    "duration": 217,
    "start_time": "2023-07-01T11:05:41.576Z"
   },
   {
    "duration": 7,
    "start_time": "2023-07-01T11:05:41.800Z"
   },
   {
    "duration": 2344,
    "start_time": "2023-07-01T11:05:41.808Z"
   },
   {
    "duration": 409,
    "start_time": "2023-07-01T11:05:44.153Z"
   },
   {
    "duration": 8,
    "start_time": "2023-07-01T11:05:44.564Z"
   },
   {
    "duration": 8,
    "start_time": "2023-07-01T11:05:44.574Z"
   },
   {
    "duration": 348,
    "start_time": "2023-07-01T11:05:44.583Z"
   },
   {
    "duration": 7,
    "start_time": "2023-07-01T11:05:44.933Z"
   },
   {
    "duration": 10500,
    "start_time": "2023-07-01T11:05:44.941Z"
   },
   {
    "duration": 7,
    "start_time": "2023-07-01T11:05:55.443Z"
   },
   {
    "duration": 9516,
    "start_time": "2023-07-01T11:05:55.451Z"
   },
   {
    "duration": 11117,
    "start_time": "2023-07-01T11:06:04.969Z"
   },
   {
    "duration": 14,
    "start_time": "2023-07-01T11:06:16.087Z"
   },
   {
    "duration": 3416,
    "start_time": "2023-07-01T11:09:14.525Z"
   },
   {
    "duration": 1294,
    "start_time": "2023-07-01T11:09:17.944Z"
   },
   {
    "duration": 6,
    "start_time": "2023-07-01T11:09:19.239Z"
   },
   {
    "duration": 11,
    "start_time": "2023-07-01T11:09:19.248Z"
   },
   {
    "duration": 5,
    "start_time": "2023-07-01T11:09:19.261Z"
   },
   {
    "duration": 201,
    "start_time": "2023-07-01T11:09:19.268Z"
   },
   {
    "duration": 32,
    "start_time": "2023-07-01T11:09:19.471Z"
   },
   {
    "duration": 98,
    "start_time": "2023-07-01T11:09:19.504Z"
   },
   {
    "duration": 64,
    "start_time": "2023-07-01T11:09:19.603Z"
   },
   {
    "duration": 37,
    "start_time": "2023-07-01T11:09:19.670Z"
   },
   {
    "duration": 9,
    "start_time": "2023-07-01T11:09:19.708Z"
   },
   {
    "duration": 23,
    "start_time": "2023-07-01T11:09:19.718Z"
   },
   {
    "duration": 134,
    "start_time": "2023-07-01T11:09:19.743Z"
   },
   {
    "duration": 5,
    "start_time": "2023-07-01T11:09:19.878Z"
   },
   {
    "duration": 16,
    "start_time": "2023-07-01T11:09:19.885Z"
   },
   {
    "duration": 3,
    "start_time": "2023-07-01T11:09:19.903Z"
   },
   {
    "duration": 64,
    "start_time": "2023-07-01T11:09:19.908Z"
   },
   {
    "duration": 58,
    "start_time": "2023-07-01T11:09:19.976Z"
   },
   {
    "duration": 235,
    "start_time": "2023-07-01T11:09:20.035Z"
   },
   {
    "duration": 4,
    "start_time": "2023-07-01T11:09:20.272Z"
   },
   {
    "duration": 35,
    "start_time": "2023-07-01T11:09:20.278Z"
   },
   {
    "duration": 7,
    "start_time": "2023-07-01T11:09:20.314Z"
   },
   {
    "duration": 1488,
    "start_time": "2023-07-01T11:09:20.323Z"
   },
   {
    "duration": 12549,
    "start_time": "2023-07-01T11:09:21.813Z"
   },
   {
    "duration": 6,
    "start_time": "2023-07-01T11:09:34.364Z"
   },
   {
    "duration": 15,
    "start_time": "2023-07-01T11:09:34.372Z"
   },
   {
    "duration": 19,
    "start_time": "2023-07-01T11:09:34.389Z"
   },
   {
    "duration": 234,
    "start_time": "2023-07-01T11:09:34.412Z"
   },
   {
    "duration": 11,
    "start_time": "2023-07-01T11:09:34.647Z"
   },
   {
    "duration": 2527,
    "start_time": "2023-07-01T11:09:34.659Z"
   },
   {
    "duration": 536,
    "start_time": "2023-07-01T11:09:37.188Z"
   },
   {
    "duration": 11,
    "start_time": "2023-07-01T11:09:37.726Z"
   },
   {
    "duration": 10,
    "start_time": "2023-07-01T11:09:37.739Z"
   },
   {
    "duration": 464,
    "start_time": "2023-07-01T11:09:37.751Z"
   },
   {
    "duration": 9,
    "start_time": "2023-07-01T11:09:38.217Z"
   },
   {
    "duration": 12491,
    "start_time": "2023-07-01T11:09:38.228Z"
   },
   {
    "duration": 12,
    "start_time": "2023-07-01T11:09:50.721Z"
   },
   {
    "duration": 10749,
    "start_time": "2023-07-01T11:09:50.735Z"
   },
   {
    "duration": 11753,
    "start_time": "2023-07-01T11:10:01.486Z"
   },
   {
    "duration": 5,
    "start_time": "2023-07-01T11:10:13.240Z"
   },
   {
    "duration": 23,
    "start_time": "2023-07-01T11:10:13.247Z"
   },
   {
    "duration": 238931,
    "start_time": "2023-07-01T11:10:13.272Z"
   },
   {
    "duration": 271,
    "start_time": "2023-07-01T11:14:12.204Z"
   },
   {
    "duration": 27,
    "start_time": "2023-07-01T11:14:12.476Z"
   },
   {
    "duration": 8,
    "start_time": "2023-07-01T11:14:12.505Z"
   },
   {
    "duration": 1206,
    "start_time": "2023-07-01T11:14:12.514Z"
   },
   {
    "duration": 44,
    "start_time": "2023-07-01T11:14:13.722Z"
   },
   {
    "duration": 53,
    "start_time": "2023-07-01T11:14:13.768Z"
   },
   {
    "duration": 14,
    "start_time": "2023-07-01T11:14:13.822Z"
   },
   {
    "duration": 159,
    "start_time": "2023-07-01T11:14:13.837Z"
   },
   {
    "duration": 9607,
    "start_time": "2023-07-01T11:14:14.028Z"
   },
   {
    "duration": 10701,
    "start_time": "2023-07-01T11:15:06.129Z"
   },
   {
    "duration": 162,
    "start_time": "2023-07-01T11:16:28.709Z"
   },
   {
    "duration": 9830,
    "start_time": "2023-07-01T11:17:10.344Z"
   },
   {
    "duration": 242,
    "start_time": "2023-07-01T11:18:30.148Z"
   },
   {
    "duration": 9,
    "start_time": "2023-07-01T11:18:52.383Z"
   },
   {
    "duration": 1291,
    "start_time": "2023-07-01T11:22:52.072Z"
   },
   {
    "duration": 10,
    "start_time": "2023-07-01T11:33:27.246Z"
   },
   {
    "duration": 1339,
    "start_time": "2023-07-01T11:34:32.121Z"
   },
   {
    "duration": 1223,
    "start_time": "2023-07-01T11:35:06.849Z"
   }
  ],
  "kernelspec": {
   "display_name": "Python 3 (ipykernel)",
   "language": "python",
   "name": "python3"
  },
  "language_info": {
   "codemirror_mode": {
    "name": "ipython",
    "version": 3
   },
   "file_extension": ".py",
   "mimetype": "text/x-python",
   "name": "python",
   "nbconvert_exporter": "python",
   "pygments_lexer": "ipython3",
   "version": "3.9.13"
  },
  "toc": {
   "base_numbering": 1,
   "nav_menu": {},
   "number_sections": true,
   "sideBar": true,
   "skip_h1_title": true,
   "title_cell": "Table of Contents",
   "title_sidebar": "Contents",
   "toc_cell": false,
   "toc_position": {
    "height": "calc(100% - 180px)",
    "left": "10px",
    "top": "150px",
    "width": "294.237px"
   },
   "toc_section_display": true,
   "toc_window_display": true
  }
 },
 "nbformat": 4,
 "nbformat_minor": 2
}
